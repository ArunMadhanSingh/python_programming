{
 "cells": [
  {
   "cell_type": "markdown",
   "metadata": {},
   "source": [
    "Hello Everyone,\n",
    "\n",
    "And it's Day-35 of <#100DaysOfCode>.\n",
    "\n",
    "Today we are gonna see some examples in \" string manipulation \" using python."
   ]
  },
  {
   "cell_type": "markdown",
   "metadata": {},
   "source": [
    "### Our task 1 is to capitalising first letter in a word or name: "
   ]
  },
  {
   "cell_type": "code",
   "execution_count": 3,
   "metadata": {},
   "outputs": [
    {
     "name": "stdout",
     "output_type": "stream",
     "text": [
      "Enter Full-Name:alpha beta \n",
      "Alpha beta \n",
      "Alpha Beta \n"
     ]
    }
   ],
   "source": [
    "fullname =input(\"Enter Full-Name:\")\n",
    "\n",
    "#if the user enters lower case names, capitalise both names for them automatically\n",
    "\n",
    "#this makes just the First letter of the whole string a capital letter \n",
    "\n",
    "fullname = fullname.capitalize()\n",
    "print(fullname)\n",
    "\n",
    "#this capitalises the first letter of Every Word\n",
    "\n",
    "fullname = fullname.title()\n",
    "print(fullname)"
   ]
  },
  {
   "cell_type": "markdown",
   "metadata": {},
   "source": [
    "### And second task is to check upper lower case in strings:"
   ]
  },
  {
   "cell_type": "code",
   "execution_count": 11,
   "metadata": {},
   "outputs": [
    {
     "name": "stdout",
     "output_type": "stream",
     "text": [
      "['connected', 'by']\n",
      "\n",
      "['ALPHA', 'BETA', 'RAMA']\n",
      "\n",
      "['This', 'Using']\n"
     ]
    }
   ],
   "source": [
    "words = ['This', 'ALPHA', 'connected', 'BETA', 'by', 'Using', 'RAMA']\n",
    "\n",
    "#for each word in the list of words, print it, if it is lower case\n",
    "print([word for word in words if word.islower()])\n",
    "\n",
    "print()  #one space line\n",
    "\n",
    "\n",
    "#for each word in the list of words, print it, if it is upper case\n",
    "\n",
    "print([word for word in words if word.isupper()])\n",
    "\n",
    "print() #for space\n",
    "\n",
    "#if a word in the list of words is neither all lower case or all upper case, print!\n",
    "\n",
    "print([word for word in words if not word.islower() and not word.isupper()])"
   ]
  },
  {
   "cell_type": "code",
   "execution_count": null,
   "metadata": {},
   "outputs": [],
   "source": []
  },
  {
   "cell_type": "code",
   "execution_count": null,
   "metadata": {},
   "outputs": [],
   "source": []
  },
  {
   "cell_type": "code",
   "execution_count": null,
   "metadata": {},
   "outputs": [],
   "source": []
  }
 ],
 "metadata": {
  "kernelspec": {
   "display_name": "Python 3",
   "language": "python",
   "name": "python3"
  },
  "language_info": {
   "codemirror_mode": {
    "name": "ipython",
    "version": 3
   },
   "file_extension": ".py",
   "mimetype": "text/x-python",
   "name": "python",
   "nbconvert_exporter": "python",
   "pygments_lexer": "ipython3",
   "version": "3.5.2"
  }
 },
 "nbformat": 4,
 "nbformat_minor": 2
}
