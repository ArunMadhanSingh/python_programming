{
 "cells": [
  {
   "cell_type": "markdown",
   "metadata": {},
   "source": [
    "Day-60 of <#100DaysOfCode>"
   ]
  },
  {
   "cell_type": "markdown",
   "metadata": {},
   "source": [
    "Todays task"
   ]
  },
  {
   "cell_type": "markdown",
   "metadata": {},
   "source": [
    "### Write a Python program to get a single string from two given strings, separated by a space and swap the first two characters of each string"
   ]
  },
  {
   "cell_type": "code",
   "execution_count": 1,
   "metadata": {},
   "outputs": [
    {
     "name": "stdout",
     "output_type": "stream",
     "text": [
      "xyc abz\n"
     ]
    }
   ],
   "source": [
    "def chars_mix_up(a, b):\n",
    "    new_a = b[:2] + a[2:]\n",
    "    new_b = a[:2] + b[2:]\n",
    "\n",
    "    return new_a + ' ' + new_b\n",
    "print(chars_mix_up('abc', 'xyz'))"
   ]
  },
  {
   "cell_type": "markdown",
   "metadata": {},
   "source": [
    "### Write a Python program to returns sum of all divisors of a number."
   ]
  },
  {
   "cell_type": "code",
   "execution_count": 2,
   "metadata": {},
   "outputs": [
    {
     "name": "stdout",
     "output_type": "stream",
     "text": [
      "7\n",
      "16\n"
     ]
    }
   ],
   "source": [
    "def sum_div(number):\n",
    "    divisors = [1]\n",
    "    for i in range(2, number):\n",
    "        if (number % i)==0:\n",
    "            divisors.append(i)\n",
    "    return sum(divisors)\n",
    "print(sum_div(8))\n",
    "print(sum_div(12))"
   ]
  },
  {
   "cell_type": "code",
   "execution_count": null,
   "metadata": {},
   "outputs": [],
   "source": []
  },
  {
   "cell_type": "code",
   "execution_count": null,
   "metadata": {},
   "outputs": [],
   "source": []
  }
 ],
 "metadata": {
  "kernelspec": {
   "display_name": "Python 3",
   "language": "python",
   "name": "python3"
  },
  "language_info": {
   "codemirror_mode": {
    "name": "ipython",
    "version": 3
   },
   "file_extension": ".py",
   "mimetype": "text/x-python",
   "name": "python",
   "nbconvert_exporter": "python",
   "pygments_lexer": "ipython3",
   "version": "3.7.3"
  }
 },
 "nbformat": 4,
 "nbformat_minor": 2
}
