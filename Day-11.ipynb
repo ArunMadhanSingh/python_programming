{
 "cells": [
  {
   "cell_type": "markdown",
   "metadata": {},
   "source": [
    "Hello everyone, welcome back and it's day-11 of <100daysofcode>\n",
    "\n",
    "This is your Arun.\n",
    "\n",
    "And today we gonna see Palindrome program."
   ]
  },
  {
   "cell_type": "markdown",
   "metadata": {},
   "source": [
    "Palindrome, What does it mean ?\n",
    "\n",
    "   A palindrome is nothing but any number or a string which \n",
    "    remains unaltered when reversed.\n",
    "    \n",
    "   For example: \"dad\" is the same in forward or reverse\n",
    "    direction."
   ]
  },
  {
   "cell_type": "markdown",
   "metadata": {},
   "source": [
    "let's see one example:"
   ]
  },
  {
   "cell_type": "code",
   "execution_count": 7,
   "metadata": {},
   "outputs": [
    {
     "name": "stdout",
     "output_type": "stream",
     "text": [
      "Enter string:dad\n",
      "String is a palindrome!\n"
     ]
    }
   ],
   "source": [
    "def is_palindrome(s):\n",
    "    if len(s) < 1:\n",
    "        return True\n",
    "    else:\n",
    "        if s[0] == s[-1]:\n",
    "            return is_palindrome(s[1:-1])\n",
    "        else:\n",
    "            return False\n",
    "a=str(input(\"Enter string:\"))\n",
    "if(is_palindrome(a)==True):\n",
    "    print(\"String is a palindrome!\")\n",
    "else:\n",
    "    print(\"String isn't a palindrome!\")"
   ]
  },
  {
   "cell_type": "markdown",
   "metadata": {},
   "source": [
    "--> In the above program user must enter a string.\n",
    "\n",
    "-->The string is passed as an argument to a recursive function.\n",
    "\n",
    "-->In the function, if the length of the string is less than 1, True is returned.\n",
    "\n",
    "-->If the last letter is equal to the first letter, the function is called recursively with the argument as the sliced list with the first character and last character removed, else return False.\n",
    "\n",
    "-->The if statement is used to check if the returned value is True or False and the final result is printed.\n",
    "\n"
   ]
  },
  {
   "cell_type": "code",
   "execution_count": 12,
   "metadata": {},
   "outputs": [
    {
     "data": {
      "text/plain": [
       "False"
      ]
     },
     "execution_count": 12,
     "metadata": {},
     "output_type": "execute_result"
    }
   ],
   "source": [
    "#Here we are calling the function is_palindrome to check again\n",
    "is_palindrome('alpha')"
   ]
  },
  {
   "cell_type": "code",
   "execution_count": null,
   "metadata": {},
   "outputs": [],
   "source": []
  }
 ],
 "metadata": {
  "kernelspec": {
   "display_name": "Python 3",
   "language": "python",
   "name": "python3"
  },
  "language_info": {
   "codemirror_mode": {
    "name": "ipython",
    "version": 3
   },
   "file_extension": ".py",
   "mimetype": "text/x-python",
   "name": "python",
   "nbconvert_exporter": "python",
   "pygments_lexer": "ipython3",
   "version": "3.7.3"
  }
 },
 "nbformat": 4,
 "nbformat_minor": 2
}
