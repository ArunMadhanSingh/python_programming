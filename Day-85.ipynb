{
 "cells": [
  {
   "cell_type": "markdown",
   "metadata": {},
   "source": [
    "Today is Day-85 of <#100DaysOfCode>\n"
   ]
  },
  {
   "cell_type": "markdown",
   "metadata": {},
   "source": [
    "Task is to Write a Python program to find the smallest multiple of the first n numbers. Also, display the factors."
   ]
  },
  {
   "cell_type": "code",
   "execution_count": 3,
   "metadata": {},
   "outputs": [
    {
     "name": "stdout",
     "output_type": "stream",
     "text": [
      "[7, 6, 5, 4]\n",
      "420\n",
      "[11, 10, 9, 8, 7, 6]\n",
      "27720\n"
     ]
    }
   ],
   "source": [
    "def smallest_multiple(n):\n",
    "    i = n * 2\n",
    "    factors = [number  for number in range(n, 1, -1) if number * 2 > n]\n",
    "    print(factors)\n",
    "\n",
    "    while True:\n",
    "        for a in factors:\n",
    "            if i % a != 0:\n",
    "                i += n\n",
    "                break\n",
    "            if (a == factors[-1] and i % a == 0):\n",
    "                return i\n",
    "                \n",
    "print(smallest_multiple(7))\n",
    "print(smallest_multiple(11))"
   ]
  },
  {
   "cell_type": "markdown",
   "metadata": {},
   "source": [
    "Task 2 is Write a Python program to calculate surface volume and area of a cylinder."
   ]
  },
  {
   "cell_type": "code",
   "execution_count": 4,
   "metadata": {},
   "outputs": [
    {
     "name": "stdout",
     "output_type": "stream",
     "text": [
      "Height of cylinder: 7\n",
      "Radius of cylinder: 4\n",
      "Volume is:  352.0\n",
      "Surface Area is:  276.57142857142856\n"
     ]
    }
   ],
   "source": [
    "pi=22/7\n",
    "height = float(input('Height of cylinder: '))\n",
    "radian = float(input('Radius of cylinder: '))\n",
    "volume = pi * radian * radian * height\n",
    "sur_area = ((2*pi*radian) * height) + ((pi*radian**2)*2)\n",
    "print(\"Volume is: \", volume)\n",
    "print(\"Surface Area is: \", sur_area)"
   ]
  },
  {
   "cell_type": "code",
   "execution_count": null,
   "metadata": {},
   "outputs": [],
   "source": []
  },
  {
   "cell_type": "code",
   "execution_count": null,
   "metadata": {},
   "outputs": [],
   "source": []
  },
  {
   "cell_type": "code",
   "execution_count": null,
   "metadata": {},
   "outputs": [],
   "source": []
  },
  {
   "cell_type": "code",
   "execution_count": null,
   "metadata": {},
   "outputs": [],
   "source": []
  }
 ],
 "metadata": {
  "kernelspec": {
   "display_name": "Python 3",
   "language": "python",
   "name": "python3"
  },
  "language_info": {
   "codemirror_mode": {
    "name": "ipython",
    "version": 3
   },
   "file_extension": ".py",
   "mimetype": "text/x-python",
   "name": "python",
   "nbconvert_exporter": "python",
   "pygments_lexer": "ipython3",
   "version": "3.7.3"
  }
 },
 "nbformat": 4,
 "nbformat_minor": 2
}
