{
 "cells": [
  {
   "cell_type": "markdown",
   "metadata": {},
   "source": [
    "hello everyone,\n",
    "\n",
    "And it's Day-57 of <#100DaysOfCode>\n"
   ]
  },
  {
   "cell_type": "markdown",
   "metadata": {},
   "source": [
    "### Todays task is to write a Python program to convert JSON data to Python object."
   ]
  },
  {
   "cell_type": "code",
   "execution_count": 4,
   "metadata": {},
   "outputs": [
    {
     "name": "stdout",
     "output_type": "stream",
     "text": [
      "\n",
      "JSON data:\n",
      "{'Age': 14, 'Class': 'IX', 'Name': 'Arun'}\n",
      "\n",
      "Name:  Arun\n",
      "Class:  IX\n",
      "Age:  14\n"
     ]
    }
   ],
   "source": [
    "import json\n",
    "\n",
    "json_obj =  '{ \"Name\":\"Arun\", \"Class\":\"IX\", \"Age\":14 }'\n",
    "python_obj = json.loads(json_obj)\n",
    "\n",
    "print(\"\\nJSON data:\")\n",
    "print(python_obj)\n",
    "print(\"\\nName: \",python_obj[\"Name\"])\n",
    "print(\"Class: \",python_obj[\"Class\"])\n",
    "print(\"Age: \",python_obj[\"Age\"]) "
   ]
  },
  {
   "cell_type": "markdown",
   "metadata": {},
   "source": [
    "### Write a Python program to convert Python object to JSON data."
   ]
  },
  {
   "cell_type": "code",
   "execution_count": 8,
   "metadata": {},
   "outputs": [
    {
     "name": "stdout",
     "output_type": "stream",
     "text": [
      "<class 'dict'>\n",
      "{\"Name\": \"& hai\", \"class\": \"IX\", \"age\": 14}\n"
     ]
    }
   ],
   "source": [
    "import json\n",
    "\n",
    "# a Python object (dict):\n",
    "python_obj = {\n",
    "  \"Name\": \"& hai\",\n",
    "  \"class\":\"IX\",\n",
    "  \"age\": 14\n",
    "}\n",
    "\n",
    "print(type(python_obj))\n",
    "\n",
    "# convert into JSON:\n",
    "j_data = json.dumps(python_obj)\n",
    "\n",
    "\n",
    "# result is a JSON string:\n",
    "print(j_data)"
   ]
  },
  {
   "cell_type": "code",
   "execution_count": null,
   "metadata": {},
   "outputs": [],
   "source": []
  },
  {
   "cell_type": "code",
   "execution_count": null,
   "metadata": {},
   "outputs": [],
   "source": []
  },
  {
   "cell_type": "code",
   "execution_count": null,
   "metadata": {},
   "outputs": [],
   "source": []
  }
 ],
 "metadata": {
  "kernelspec": {
   "display_name": "Python 3",
   "language": "python",
   "name": "python3"
  },
  "language_info": {
   "codemirror_mode": {
    "name": "ipython",
    "version": 3
   },
   "file_extension": ".py",
   "mimetype": "text/x-python",
   "name": "python",
   "nbconvert_exporter": "python",
   "pygments_lexer": "ipython3",
   "version": "3.5.2"
  }
 },
 "nbformat": 4,
 "nbformat_minor": 2
}
