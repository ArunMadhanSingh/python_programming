{
 "cells": [
  {
   "cell_type": "markdown",
   "metadata": {},
   "source": [
    "Hello Everyone,\n",
    "\n",
    "Today is Day-89 of <#100DaysOfCode>"
   ]
  },
  {
   "cell_type": "markdown",
   "metadata": {},
   "source": [
    "This is a Python Program to map two lists into a dictionary"
   ]
  },
  {
   "cell_type": "code",
   "execution_count": 1,
   "metadata": {},
   "outputs": [
    {
     "name": "stdout",
     "output_type": "stream",
     "text": [
      "Enter number of elements for dictionary:4\n",
      "For keys:\n",
      "Enter element1:9\n",
      "Enter element2:6\n",
      "Enter element3:7\n",
      "Enter element4:2\n",
      "For values:\n",
      "Enter element1:7\n",
      "Enter element2:8\n",
      "Enter element3:1\n",
      "Enter element4:2\n",
      "The dictionary is:\n",
      "{9: 7, 6: 8, 7: 1, 2: 2}\n"
     ]
    }
   ],
   "source": [
    "keys=[]\n",
    "values=[]\n",
    "n=int(input(\"Enter number of elements for dictionary:\"))\n",
    "print(\"For keys:\")\n",
    "for x in range(0,n):\n",
    "    element=int(input(\"Enter element\" + str(x+1) + \":\"))\n",
    "    keys.append(element)\n",
    "print(\"For values:\")\n",
    "for x in range(0,n):\n",
    "    element=int(input(\"Enter element\" + str(x+1) + \":\"))\n",
    "    values.append(element)\n",
    "d=dict(zip(keys,values))\n",
    "print(\"The dictionary is:\")\n",
    "print(d)"
   ]
  },
  {
   "cell_type": "markdown",
   "metadata": {},
   "source": [
    "Explanation:"
   ]
  },
  {
   "cell_type": "markdown",
   "metadata": {},
   "source": [
    "->enter the number of elements in the list and store it in a variable.\n",
    "\n",
    "->enter the values to the same number of elements into the list.\n",
    "\n",
    "->The append function obtains each element from the user and adds the same to the end of the list as many times as the number of elements taken.\n",
    "\n",
    "->The same of 2 and 3 is done for the second values list also.\n",
    "\n",
    "->The two lists are merged together using the zip() function.\n",
    "\n",
    "->The zipped lists are then merged to form a dictionary using dict().\n",
    "\n",
    "->The dictionary formed from the two lists is then printed."
   ]
  },
  {
   "cell_type": "code",
   "execution_count": null,
   "metadata": {},
   "outputs": [],
   "source": []
  }
 ],
 "metadata": {
  "kernelspec": {
   "display_name": "Python 3",
   "language": "python",
   "name": "python3"
  },
  "language_info": {
   "codemirror_mode": {
    "name": "ipython",
    "version": 3
   },
   "file_extension": ".py",
   "mimetype": "text/x-python",
   "name": "python",
   "nbconvert_exporter": "python",
   "pygments_lexer": "ipython3",
   "version": "3.7.3"
  }
 },
 "nbformat": 4,
 "nbformat_minor": 2
}
