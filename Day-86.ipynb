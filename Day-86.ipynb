{
 "cells": [
  {
   "cell_type": "markdown",
   "metadata": {},
   "source": [
    "Hello Everyone,\n",
    "\n",
    "And it's Day-86 of <#100DaysOfCode>"
   ]
  },
  {
   "cell_type": "markdown",
   "metadata": {},
   "source": [
    "Task is to Write a python program to find the 1000th prime number."
   ]
  },
  {
   "cell_type": "code",
   "execution_count": 6,
   "metadata": {},
   "outputs": [
    {
     "name": "stdout",
     "output_type": "stream",
     "text": [
      "7919\n"
     ]
    }
   ],
   "source": [
    "def alpha():\n",
    "    D = {}  \n",
    "    q = 2   \n",
    "    while 1:\n",
    "        if q not in D:\n",
    "            yield q        \n",
    "            D[q*q] = [q]   \n",
    "        else:\n",
    "            for p in D[q]: \n",
    "                D.setdefault(p+q,[]).append(p)\n",
    "            del D[q]       \n",
    "        q += 1\n",
    "\n",
    "def nth_prime(n):\n",
    "    for i, prime in enumerate(alpha()):\n",
    "        if i == n - 1:\n",
    "            return prime\n",
    "\n",
    "print(nth_prime(1000))"
   ]
  },
  {
   "cell_type": "markdown",
   "metadata": {},
   "source": [
    "Write a Python program that takes a string of numbers and letters and return string which consists of letters."
   ]
  },
  {
   "cell_type": "code",
   "execution_count": 11,
   "metadata": {},
   "outputs": [
    {
     "name": "stdout",
     "output_type": "stream",
     "text": [
      "HHHHAAAII\n",
      "ARRUUUNNNN\n",
      "PYTHON\n",
      "WATCHING\n"
     ]
    }
   ],
   "source": [
    "def decode(str1):\n",
    "    ints = \"1234567890\"\n",
    "\n",
    "    num = \"\"\n",
    "    letters = \"\"\n",
    "    result_string = \"\"\n",
    "\n",
    "    i = 0\n",
    "\n",
    "    while i < len(str1):\n",
    "    \n",
    "        if str1[i] in ints:\n",
    "            num += str1[i]\n",
    "              \n",
    "        else:\n",
    "            letters += str1[i]\n",
    "\n",
    "        i += 1\n",
    "\n",
    "    for i, char in enumerate(num):\n",
    "\n",
    "        result_string += int(char) * letters[i]\n",
    "\n",
    "    return result_string\n",
    "    \n",
    "print(decode(\"4H3A2I\"))\n",
    "print(decode(\"1A2R3U4N\"))\n",
    "print(decode(\"1P1Y1T1H1O1N\"))\n",
    "print(decode(\"1W1A1T1C1H1I1N1G\"))"
   ]
  },
  {
   "cell_type": "code",
   "execution_count": null,
   "metadata": {},
   "outputs": [],
   "source": []
  }
 ],
 "metadata": {
  "kernelspec": {
   "display_name": "Python 3",
   "language": "python",
   "name": "python3"
  },
  "language_info": {
   "codemirror_mode": {
    "name": "ipython",
    "version": 3
   },
   "file_extension": ".py",
   "mimetype": "text/x-python",
   "name": "python",
   "nbconvert_exporter": "python",
   "pygments_lexer": "ipython3",
   "version": "3.7.3"
  }
 },
 "nbformat": 4,
 "nbformat_minor": 2
}
