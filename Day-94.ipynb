{
 "cells": [
  {
   "cell_type": "markdown",
   "metadata": {},
   "source": [
    "Hello Everyone,\n",
    "\n",
    "And it's Day-94 of <#100DaysOfCode>"
   ]
  },
  {
   "cell_type": "markdown",
   "metadata": {},
   "source": [
    "This is a Python program to implement linear search."
   ]
  },
  {
   "cell_type": "code",
   "execution_count": 1,
   "metadata": {},
   "outputs": [
    {
     "name": "stdout",
     "output_type": "stream",
     "text": [
      "Enter the list of numbers: 9 6 7 7 7 1 2 3 4 \n",
      "The number to search for: 7\n",
      "7 was found at index 2.\n"
     ]
    }
   ],
   "source": [
    "def linear_search(alist, key):\n",
    "    \"\"\"Return index of key in alist. Return -1 if key not present.\"\"\"\n",
    "    for i in range(len(alist)):\n",
    "        if alist[i] == key:\n",
    "            return i\n",
    "    return -1\n",
    " \n",
    " \n",
    "alist = input('Enter the list of numbers: ')\n",
    "alist = alist.split()\n",
    "alist = [int(x) for x in alist]\n",
    "key = int(input('The number to search for: '))\n",
    " \n",
    "index = linear_search(alist, key)\n",
    "if index < 0:\n",
    "    print('{} was not found.'.format(key))\n",
    "else:\n",
    "    print('{} was found at index {}.'.format(key, index))"
   ]
  },
  {
   "cell_type": "code",
   "execution_count": 2,
   "metadata": {},
   "outputs": [
    {
     "name": "stdout",
     "output_type": "stream",
     "text": [
      "Enter the list of numbers: 1 2 3 4 5 6 7 8 \n",
      "The number to search for: 9\n",
      "9 was not found.\n"
     ]
    }
   ],
   "source": [
    "def linear_search(alist, key):\n",
    "    \"\"\"Return index of key in alist. Return -1 if key not present.\"\"\"\n",
    "    for i in range(len(alist)):\n",
    "        if alist[i] == key:\n",
    "            return i\n",
    "    return -1\n",
    " \n",
    " \n",
    "alist = input('Enter the list of numbers: ')\n",
    "alist = alist.split()\n",
    "alist = [int(x) for x in alist]\n",
    "key = int(input('The number to search for: '))\n",
    " \n",
    "index = linear_search(alist, key)\n",
    "if index < 0:\n",
    "    print('{} was not found.'.format(key))\n",
    "else:\n",
    "    print('{} was found at index {}.'.format(key, index))"
   ]
  },
  {
   "cell_type": "markdown",
   "metadata": {},
   "source": [
    "->First enter a list of numbers.\n",
    "\n",
    "->The user is then asked to enter a key to search for.\n",
    "\n",
    "->The list and key is passed to linear_search.\n",
    " \n",
    "->If the return value is -1, the key is not found and a message is displayed, otherwise the index of the found item is displayed."
   ]
  },
  {
   "cell_type": "code",
   "execution_count": null,
   "metadata": {},
   "outputs": [],
   "source": []
  }
 ],
 "metadata": {
  "kernelspec": {
   "display_name": "Python 3",
   "language": "python",
   "name": "python3"
  },
  "language_info": {
   "codemirror_mode": {
    "name": "ipython",
    "version": 3
   },
   "file_extension": ".py",
   "mimetype": "text/x-python",
   "name": "python",
   "nbconvert_exporter": "python",
   "pygments_lexer": "ipython3",
   "version": "3.5.2"
  }
 },
 "nbformat": 4,
 "nbformat_minor": 2
}
