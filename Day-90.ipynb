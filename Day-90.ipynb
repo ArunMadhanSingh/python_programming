{
 "cells": [
  {
   "cell_type": "markdown",
   "metadata": {},
   "source": [
    "Hello Everyone,\n",
    "\n",
    "And it's Day-90 of <#100DaysOfCode>"
   ]
  },
  {
   "cell_type": "markdown",
   "metadata": {},
   "source": [
    "Python game, rolling the dice."
   ]
  },
  {
   "cell_type": "code",
   "execution_count": 9,
   "metadata": {
    "scrolled": true
   },
   "outputs": [
    {
     "name": "stdout",
     "output_type": "stream",
     "text": [
      "Rolling the dices...\n",
      "The values are....\n",
      "1\n",
      "5\n",
      "Roll the dices again?y\n",
      "Rolling the dices...\n",
      "The values are....\n",
      "6\n",
      "4\n",
      "Roll the dices again?y\n",
      "Rolling the dices...\n",
      "The values are....\n",
      "6\n",
      "4\n",
      "Roll the dices again?y\n",
      "Rolling the dices...\n",
      "The values are....\n",
      "6\n",
      "3\n",
      "Roll the dices again?y\n",
      "Rolling the dices...\n",
      "The values are....\n",
      "2\n",
      "6\n",
      "Roll the dices again?y\n",
      "Rolling the dices...\n",
      "The values are....\n",
      "1\n",
      "2\n",
      "Roll the dices again?y\n",
      "Rolling the dices...\n",
      "The values are....\n",
      "1\n",
      "3\n",
      "Roll the dices again?No\n"
     ]
    }
   ],
   "source": [
    "import random\n",
    "min = 1\n",
    "max = 6\n",
    "\n",
    "roll_again = \"yes\"\n",
    "\n",
    "while roll_again == \"yes\" or roll_again == \"y\":\n",
    "    print (\"Rolling the dices...\")\n",
    "    print (\"The values are....\")\n",
    "    print (random.randint(min, max))\n",
    "    print (random.randint(min, max))\n",
    "\n",
    "\n",
    "    roll_again = input(\"Roll the dices again?\")"
   ]
  },
  {
   "cell_type": "markdown",
   "metadata": {},
   "source": [
    "Explanation:"
   ]
  },
  {
   "cell_type": "markdown",
   "metadata": {},
   "source": [
    "->This is a classic \"roll the dice\" program. \n",
    "\n",
    "->We will be using the random module for this,since we want to randomize the numberswe get from the dice. \n",
    "\n",
    "->We set two variables (min and max) , lowest and highest number of the dice. \n",
    "\n",
    "->We then use a while loop, so that the user can roll the dice again. \n",
    "\n",
    "->The roll_again can be set to any value, but here it's set to \"yes\" or \"y\", \n",
    " but you can also add other variations to it. "
   ]
  },
  {
   "cell_type": "code",
   "execution_count": null,
   "metadata": {},
   "outputs": [],
   "source": []
  },
  {
   "cell_type": "code",
   "execution_count": null,
   "metadata": {},
   "outputs": [],
   "source": []
  },
  {
   "cell_type": "code",
   "execution_count": null,
   "metadata": {},
   "outputs": [],
   "source": []
  }
 ],
 "metadata": {
  "kernelspec": {
   "display_name": "Python 3",
   "language": "python",
   "name": "python3"
  },
  "language_info": {
   "codemirror_mode": {
    "name": "ipython",
    "version": 3
   },
   "file_extension": ".py",
   "mimetype": "text/x-python",
   "name": "python",
   "nbconvert_exporter": "python",
   "pygments_lexer": "ipython3",
   "version": "3.7.3"
  }
 },
 "nbformat": 4,
 "nbformat_minor": 2
}
