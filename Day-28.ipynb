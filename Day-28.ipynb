{
 "cells": [
  {
   "cell_type": "markdown",
   "metadata": {},
   "source": [
    "Hello everyone, Welcome back...!\n",
    "\n",
    "And it's Day-28 of <#100Daysofcode>\n",
    "\n",
    "Today we are gonna work on some example programs in python."
   ]
  },
  {
   "cell_type": "markdown",
   "metadata": {},
   "source": [
    "example program of simple calculator:"
   ]
  },
  {
   "cell_type": "code",
   "execution_count": 1,
   "metadata": {},
   "outputs": [
    {
     "name": "stdout",
     "output_type": "stream",
     "text": [
      "1. Addition\n",
      "2. Subtraction\n",
      "3. Multiplication\n",
      "4. Division\n",
      "5. Exit\n",
      "Enter your choice: 1\n",
      "Enter two numbers: \n",
      "10101\n",
      "01010\n",
      "Result =  11111\n"
     ]
    }
   ],
   "source": [
    "print(\"1. Addition\")\n",
    "print(\"2. Subtraction\")\n",
    "print(\"3. Multiplication\")\n",
    "print(\"4. Division\")\n",
    "print(\"5. Exit\")\n",
    "choice = int(input(\"Enter your choice: \"))  #choosing arithmetic operation in the above inputs\n",
    "\n",
    "if (choice>=1 and choice<=4):   #if input greater than 5 then it will exit\n",
    "    print(\"Enter two numbers: \")\n",
    "    num1 = int(input())\n",
    "    num2 = int(input())\n",
    "    if choice == 1:            #for addition operation\n",
    "        res = num1 + num2\n",
    "        print(\"Result = \", res)\n",
    "    elif choice == 2:           # for subraction \n",
    "        res = num1 - num2\n",
    "        print(\"Result = \", res)\n",
    "    elif choice == 3:         #for multiplication\n",
    "        res = num1 * num2\n",
    "        print(\"Result = \", res)\n",
    "    else:\n",
    "        res = num1 / num2    # for division\n",
    "        print(\"Result = \", res)\n",
    "elif choice == 5:\n",
    "    exit()\n",
    "else:\n",
    "    print(\"Wrong input..!!\")"
   ]
  },
  {
   "cell_type": "code",
   "execution_count": null,
   "metadata": {},
   "outputs": [],
   "source": []
  },
  {
   "cell_type": "code",
   "execution_count": null,
   "metadata": {},
   "outputs": [],
   "source": []
  },
  {
   "cell_type": "code",
   "execution_count": null,
   "metadata": {},
   "outputs": [],
   "source": []
  }
 ],
 "metadata": {
  "kernelspec": {
   "display_name": "Python 3",
   "language": "python",
   "name": "python3"
  },
  "language_info": {
   "codemirror_mode": {
    "name": "ipython",
    "version": 3
   },
   "file_extension": ".py",
   "mimetype": "text/x-python",
   "name": "python",
   "nbconvert_exporter": "python",
   "pygments_lexer": "ipython3",
   "version": "3.5.2"
  }
 },
 "nbformat": 4,
 "nbformat_minor": 2
}
