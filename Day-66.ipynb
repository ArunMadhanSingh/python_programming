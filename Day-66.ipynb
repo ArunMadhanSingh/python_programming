{
 "cells": [
  {
   "cell_type": "markdown",
   "metadata": {},
   "source": [
    "And it's Day-66 of <#100DaysOfCode>\n"
   ]
  },
  {
   "cell_type": "markdown",
   "metadata": {},
   "source": [
    "Todays task is - slice a tuple using python program ."
   ]
  },
  {
   "cell_type": "code",
   "execution_count": 36,
   "metadata": {},
   "outputs": [
    {
     "name": "stdout",
     "output_type": "stream",
     "text": [
      "(5, 4)\n"
     ]
    }
   ],
   "source": [
    "#create a tuple\n",
    "tuplex = (2, 4, 3, 5, 4, 6, 7, 8, 6, 1)\n",
    "#used tuple[start:stop] the start index is inclusive and the stop index\n",
    "slice = tuplex[3:5]\n",
    "#is exclusive\n",
    "print(slice)\n"
   ]
  },
  {
   "cell_type": "code",
   "execution_count": 37,
   "metadata": {},
   "outputs": [
    {
     "name": "stdout",
     "output_type": "stream",
     "text": [
      "(2, 4, 3, 5, 4, 6)\n"
     ]
    }
   ],
   "source": [
    "#if the start index isn't defined, is taken from the beg inning of the tuple\n",
    "slice = tuplex[:6]\n",
    "print(slice)"
   ]
  },
  {
   "cell_type": "code",
   "execution_count": 38,
   "metadata": {},
   "outputs": [
    {
     "name": "stdout",
     "output_type": "stream",
     "text": [
      "(6, 7, 8, 6, 1)\n"
     ]
    }
   ],
   "source": [
    "#if the end index isn't defined, is taken until the end of the tuple\n",
    "slice = tuplex[5:]\n",
    "print(slice)"
   ]
  },
  {
   "cell_type": "code",
   "execution_count": 39,
   "metadata": {},
   "outputs": [
    {
     "name": "stdout",
     "output_type": "stream",
     "text": [
      "(2, 4, 3, 5, 4, 6, 7, 8, 6, 1)\n"
     ]
    }
   ],
   "source": [
    "#if neither is defined, returns the full tuple\n",
    "slice = tuplex[:]\n",
    "print(slice)"
   ]
  },
  {
   "cell_type": "code",
   "execution_count": 40,
   "metadata": {},
   "outputs": [
    {
     "name": "stdout",
     "output_type": "stream",
     "text": [
      "(3, 5, 4, 6)\n"
     ]
    }
   ],
   "source": [
    "#The indexes can be defined with negative values\n",
    "slice = tuplex[-8:-4]\n",
    "print(slice)"
   ]
  },
  {
   "cell_type": "code",
   "execution_count": 42,
   "metadata": {},
   "outputs": [
    {
     "name": "stdout",
     "output_type": "stream",
     "text": [
      "('H', 'E', 'L', 'L', 'O', ' ', 'A', 'R', 'U', 'N')\n"
     ]
    }
   ],
   "source": [
    "#create another tuple\n",
    "tuplex = tuple(\"HELLO ARUN\")\n",
    "print(tuplex)"
   ]
  },
  {
   "cell_type": "code",
   "execution_count": 43,
   "metadata": {},
   "outputs": [
    {
     "name": "stdout",
     "output_type": "stream",
     "text": [
      "('L', 'O', 'A', 'U')\n"
     ]
    }
   ],
   "source": [
    "#step specify an increment between the elements to cut of the tuple\n",
    "#tuple[start:stop:step]\n",
    "slice = tuplex[2:9:2]\n",
    "print(slice)"
   ]
  },
  {
   "cell_type": "code",
   "execution_count": 44,
   "metadata": {},
   "outputs": [
    {
     "name": "stdout",
     "output_type": "stream",
     "text": [
      "('H', 'O', 'U')\n"
     ]
    }
   ],
   "source": [
    "#returns a tuple with a jump every 3 items\n",
    "slice = tuplex[::4]\n",
    "print(slice)"
   ]
  },
  {
   "cell_type": "code",
   "execution_count": 45,
   "metadata": {},
   "outputs": [
    {
     "name": "stdout",
     "output_type": "stream",
     "text": [
      "('N', ' ')\n"
     ]
    }
   ],
   "source": [
    "#when step is negative the jump is made back\n",
    "slice = tuplex[9:2:-4]\n",
    "print(slice)"
   ]
  },
  {
   "cell_type": "code",
   "execution_count": null,
   "metadata": {},
   "outputs": [],
   "source": []
  }
 ],
 "metadata": {
  "kernelspec": {
   "display_name": "Python 3",
   "language": "python",
   "name": "python3"
  },
  "language_info": {
   "codemirror_mode": {
    "name": "ipython",
    "version": 3
   },
   "file_extension": ".py",
   "mimetype": "text/x-python",
   "name": "python",
   "nbconvert_exporter": "python",
   "pygments_lexer": "ipython3",
   "version": "3.7.3"
  }
 },
 "nbformat": 4,
 "nbformat_minor": 2
}
