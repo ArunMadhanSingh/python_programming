{
 "cells": [
  {
   "cell_type": "markdown",
   "metadata": {},
   "source": [
    "Hello Everyone,\n",
    "\n",
    "And it's Day-91 of <#100DaysOfCode>"
   ]
  },
  {
   "cell_type": "markdown",
   "metadata": {},
   "source": [
    "This is a Python Program to append, delete and display elements of a list using classes."
   ]
  },
  {
   "cell_type": "code",
   "execution_count": 2,
   "metadata": {},
   "outputs": [
    {
     "name": "stdout",
     "output_type": "stream",
     "text": [
      "0. Exit\n",
      "1. Add\n",
      "2. Delete\n",
      "3. Display\n",
      "Enter choice: 1\n",
      "Enter number to append: 12345\n",
      "List:  [12345]\n",
      "0. Exit\n",
      "1. Add\n",
      "2. Delete\n",
      "3. Display\n",
      "Enter choice: 2\n",
      "Enter number to remove: 12345\n",
      "List:  []\n",
      "0. Exit\n",
      "1. Add\n",
      "2. Delete\n",
      "3. Display\n",
      "Enter choice: 3\n",
      "List:  []\n",
      "0. Exit\n",
      "1. Add\n",
      "2. Delete\n",
      "3. Display\n",
      "Enter choice: 0\n",
      "Exiting!\n",
      "\n"
     ]
    }
   ],
   "source": [
    "class check():\n",
    "    def __init__(self):\n",
    "        self.n=[]\n",
    "    def add(self,a):\n",
    "        return self.n.append(a)\n",
    "    def remove(self,b):\n",
    "        self.n.remove(b)\n",
    "    def dis(self):\n",
    "        return (self.n)\n",
    " \n",
    "obj=check()\n",
    " \n",
    "choice=1\n",
    "while choice!=0:\n",
    "    print(\"0. Exit\")\n",
    "    print(\"1. Add\")\n",
    "    print(\"2. Delete\")\n",
    "    print(\"3. Display\")\n",
    "    choice=int(input(\"Enter choice: \"))\n",
    "    if choice==1:\n",
    "        n=int(input(\"Enter number to append: \"))\n",
    "        obj.add(n)\n",
    "        print(\"List: \",obj.dis())\n",
    " \n",
    "    elif choice==2:\n",
    "        n=int(input(\"Enter number to remove: \"))\n",
    "        obj.remove(n)\n",
    "        print(\"List: \",obj.dis())\n",
    " \n",
    "    elif choice==3:\n",
    "        print(\"List: \",obj.dis())\n",
    "    elif choice==0:\n",
    "        print(\"Exiting!\")\n",
    "    else:\n",
    "        print(\"Invalid choice!!\")\n",
    " \n",
    "print()"
   ]
  },
  {
   "cell_type": "code",
   "execution_count": null,
   "metadata": {},
   "outputs": [],
   "source": []
  }
 ],
 "metadata": {
  "kernelspec": {
   "display_name": "Python 3",
   "language": "python",
   "name": "python3"
  },
  "language_info": {
   "codemirror_mode": {
    "name": "ipython",
    "version": 3
   },
   "file_extension": ".py",
   "mimetype": "text/x-python",
   "name": "python",
   "nbconvert_exporter": "python",
   "pygments_lexer": "ipython3",
   "version": "3.7.3"
  }
 },
 "nbformat": 4,
 "nbformat_minor": 2
}
