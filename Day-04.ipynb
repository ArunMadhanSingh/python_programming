{
 "cells": [
  {
   "cell_type": "markdown",
   "metadata": {},
   "source": [
    "Hi.....hello everyone, \n",
    "\n",
    "welcome back this is your Arun \n",
    "\n",
    "This was our Day-04 of <100dayscodechallenge>\n",
    "\n",
    "On day-03 we saw about functions and today we gonna see about same functions and few examples... bcoz it's more important in pyhton."
   ]
  },
  {
   "cell_type": "markdown",
   "metadata": {},
   "source": [
    "I just recalling the syntax of python: "
   ]
  },
  {
   "cell_type": "markdown",
   "metadata": {},
   "source": [
    "#### def function-name(Parameter list):"
   ]
  },
  {
   "cell_type": "markdown",
   "metadata": {},
   "source": [
    "The parameter list consists of none or more parameters. \n",
    "\n",
    "Parameters are called arguments, if the function is called. \n",
    "\n",
    "The function body consists of indented statements. \n",
    "\n",
    "The function body gets executed every time the function is called.\n",
    "\n",
    "Parameter can be mandatory or optional. The optional parameters (zero or more) must follow the mandatory parameters."
   ]
  },
  {
   "cell_type": "markdown",
   "metadata": {},
   "source": [
    "# Python Recursive Functions\n",
    "\n",
    "What is recursion in Python?\n",
    "\n",
    "Recursion is the process of defining something in terms of itself.\n",
    "\n",
    "A physical world example would be to place two parallel mirrors facing each other. Any object in between them would be reflected recursively."
   ]
  },
  {
   "cell_type": "markdown",
   "metadata": {},
   "source": [
    "#### Following is an example of a recursive function to find the factorial of an integer.\n",
    "\n",
    "Factorial of a number is the product of all the integers from 1 to that number. \n",
    "\n",
    "For example, the factorial of 5 (denoted as 5!) is 1*2*3*4*5 = 120."
   ]
  },
  {
   "cell_type": "code",
   "execution_count": 3,
   "metadata": {},
   "outputs": [
    {
     "name": "stdout",
     "output_type": "stream",
     "text": [
      "The factorial of 4 is 24\n"
     ]
    }
   ],
   "source": [
    "# An example of a recursive function to\n",
    "# find the factorial of a number\n",
    " \n",
    "def calc_factorial(x):\n",
    "    \"\"\"This is a recursive function\n",
    "    to find the factorial of an integer\"\"\"\n",
    " \n",
    "    if x == 1:\n",
    "        return 1\n",
    "    else:\n",
    "        return (x * calc_factorial(x-1))\n",
    " \n",
    "num = 4\n",
    "print(\"The factorial of\", num, \"is\", calc_factorial(num)) \n"
   ]
  },
  {
   "cell_type": "markdown",
   "metadata": {},
   "source": [
    "#### In the above example, calc_factorial() is a recursive function as it calls itself...\n",
    "\n",
    "-->When we call this function with a positive integer, it will recursively call itself by decreasing the number.\n",
    "\n",
    "-->Each function call multiples the number with the factorial of number 1 until the number is equal to one.\n",
    "\n",
    "-->Our recursion ends when the number reduces to 1. This is called the base condition. Every recursive function must have a base condition that stops the recursion or else the function calls itself infinitely."
   ]
  },
  {
   "cell_type": "markdown",
   "metadata": {},
   "source": [
    "Advantages of Recursion:\n",
    "    \n",
    "Recursive functions make the code look clean and elegant.\n",
    "A complex task can be broken down into simpler sub-problems using recursion.\n",
    "Sequence generation is easier with recursion than using some nested iteration.\n",
    "\n",
    "Disadvantages of Recursion:\n",
    "\n",
    "Sometimes the logic behind recursion is hard to follow through.\n",
    "Recursive calls are expensive (inefficient) as they take up a lot of memory and time.\n",
    "Recursive functions are hard to debug."
   ]
  },
  {
   "cell_type": "markdown",
   "metadata": {},
   "source": [
    "### Let's have a look at an iterative version of the factorial function."
   ]
  },
  {
   "cell_type": "code",
   "execution_count": 4,
   "metadata": {},
   "outputs": [],
   "source": [
    "def iterative_factorial(n):\n",
    "    result = 1\n",
    "    for i in range(2,n+1):\n",
    "        result *= i\n",
    "    return result"
   ]
  },
  {
   "cell_type": "code",
   "execution_count": 6,
   "metadata": {},
   "outputs": [
    {
     "data": {
      "text/plain": [
       "5040"
      ]
     },
     "execution_count": 6,
     "metadata": {},
     "output_type": "execute_result"
    }
   ],
   "source": [
    "iterative_factorial(7)"
   ]
  },
  {
   "cell_type": "code",
   "execution_count": null,
   "metadata": {},
   "outputs": [],
   "source": []
  }
 ],
 "metadata": {
  "kernelspec": {
   "display_name": "Python 3",
   "language": "python",
   "name": "python3"
  },
  "language_info": {
   "codemirror_mode": {
    "name": "ipython",
    "version": 3
   },
   "file_extension": ".py",
   "mimetype": "text/x-python",
   "name": "python",
   "nbconvert_exporter": "python",
   "pygments_lexer": "ipython3",
   "version": "3.7.3"
  }
 },
 "nbformat": 4,
 "nbformat_minor": 2
}
