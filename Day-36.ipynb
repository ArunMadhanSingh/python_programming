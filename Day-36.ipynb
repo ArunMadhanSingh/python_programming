{
 "cells": [
  {
   "cell_type": "markdown",
   "metadata": {},
   "source": [
    "And it's Day-36 of <#100DaysOfCode>.\n",
    "\n",
    "Today we are gonna work on some examples in python."
   ]
  },
  {
   "cell_type": "markdown",
   "metadata": {},
   "source": [
    "#### Our first example is STRING_LETTERS_NUMBER only in given inputs:"
   ]
  },
  {
   "cell_type": "markdown",
   "metadata": {},
   "source": [
    "For example if we signing in new account user should give username, for this we limiting the inputs other than string,letter,number."
   ]
  },
  {
   "cell_type": "code",
   "execution_count": 9,
   "metadata": {},
   "outputs": [
    {
     "name": "stdout",
     "output_type": "stream",
     "text": [
      "Select a new password - numbers and letters only please:\n",
      "arun@!#\n",
      "Passwors can only have letters and numbers\n",
      "Select a new password - numbers and letters only please:\n",
      "arun04\n"
     ]
    }
   ],
   "source": [
    "while True:\n",
    "    print(\"Select a new password - numbers and letters only please:\")\n",
    "    password=input()\n",
    "    if password.isalnum(): \n",
    "        break\n",
    "    print(\"Passwors can only have letters and numbers\")\n",
    "    "
   ]
  },
  {
   "cell_type": "markdown",
   "metadata": {},
   "source": [
    "-->In the above outputs first we gave wrong inputs \"arun@!#\" and it prints \"Passwors can only have letters and letters\" and then second time we gave correct inputs and it prints."
   ]
  },
  {
   "cell_type": "markdown",
   "metadata": {},
   "source": [
    "#### Example 2 : Finding certain word in sentences"
   ]
  },
  {
   "cell_type": "code",
   "execution_count": 11,
   "metadata": {},
   "outputs": [],
   "source": [
    "def main():\n",
    "\n",
    "    string=\"the word because is used because the word because is conjuction\"\n",
    "    \n",
    "    number_of_pythons_in_string=string.count(\"because\") #string.count is counting the word which want to be count\n",
    "    \n",
    "    print(number_of_pythons_in_string)"
   ]
  },
  {
   "cell_type": "code",
   "execution_count": 12,
   "metadata": {},
   "outputs": [
    {
     "name": "stdout",
     "output_type": "stream",
     "text": [
      "3\n"
     ]
    }
   ],
   "source": [
    "main() #calling the function"
   ]
  },
  {
   "cell_type": "code",
   "execution_count": null,
   "metadata": {},
   "outputs": [],
   "source": []
  },
  {
   "cell_type": "code",
   "execution_count": null,
   "metadata": {},
   "outputs": [],
   "source": []
  },
  {
   "cell_type": "code",
   "execution_count": null,
   "metadata": {},
   "outputs": [],
   "source": []
  }
 ],
 "metadata": {
  "kernelspec": {
   "display_name": "Python 3",
   "language": "python",
   "name": "python3"
  },
  "language_info": {
   "codemirror_mode": {
    "name": "ipython",
    "version": 3
   },
   "file_extension": ".py",
   "mimetype": "text/x-python",
   "name": "python",
   "nbconvert_exporter": "python",
   "pygments_lexer": "ipython3",
   "version": "3.5.2"
  }
 },
 "nbformat": 4,
 "nbformat_minor": 2
}
