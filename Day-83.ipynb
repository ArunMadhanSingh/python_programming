{
 "cells": [
  {
   "cell_type": "markdown",
   "metadata": {},
   "source": [
    "Hello Everyone,\n",
    "\n",
    "And today is Day-83 of <#100DaysOfCode>"
   ]
  },
  {
   "cell_type": "markdown",
   "metadata": {},
   "source": [
    "Task is to Write a Python program to delete the first item from a singly linked list."
   ]
  },
  {
   "cell_type": "code",
   "execution_count": 1,
   "metadata": {},
   "outputs": [
    {
     "name": "stdout",
     "output_type": "stream",
     "text": [
      "Original list:\n",
      "PHP\n",
      "Python\n",
      "C#\n",
      "C++\n",
      "Java\n",
      "\n",
      "After removing the first item from the list:\n",
      "Python\n",
      "C#\n",
      "C++\n",
      "Java\n"
     ]
    }
   ],
   "source": [
    "class Node:\n",
    "    # Singly linked node\n",
    "    def __init__(self, data=None):\n",
    "        self.data = data\n",
    "        self.next = None\n",
    "class singly_linked_list:\n",
    "    def __init__(self):\n",
    "        # Createe an empty list\n",
    "        self.tail = None\n",
    "        self.head = None\n",
    "        self.count = 0\n",
    "\n",
    "    def append_item(self, data):\n",
    "        #Append items on the list\n",
    "        node = Node(data)\n",
    "        if self.head:\n",
    "            self.head.next = node\n",
    "            self.head = node\n",
    "        else:\n",
    "            self.tail = node\n",
    "            self.head = node\n",
    "        self.count += 1\n",
    "    \n",
    "    def delete_item(self, data):\n",
    "        # Delete an item from the list\n",
    "        current = self.tail\n",
    "        prev = self.tail\n",
    "        while current:\n",
    "            if current.data == data:\n",
    "                if current == self.tail:\n",
    "                    self.tail = current.next\n",
    "                else:\n",
    "                    prev.next = current.next\n",
    "                self.count -= 1\n",
    "                return\n",
    "            prev = current\n",
    "            current = current.next\n",
    "    def iterate_item(self):\n",
    "        # Iterate the list.\n",
    "        current_item = self.tail\n",
    "        while current_item:\n",
    "            val = current_item.data\n",
    "            current_item = current_item.next\n",
    "            yield val\n",
    "\n",
    "items = singly_linked_list()\n",
    "items.append_item('PHP')\n",
    "items.append_item('Python')\n",
    "items.append_item('C#')\n",
    "items.append_item('C++')\n",
    "items.append_item('Java')\n",
    "\n",
    "print(\"Original list:\")\n",
    "for val in items.iterate_item():\n",
    "    print(val)\n",
    "\n",
    "print(\"\\nAfter removing the first item from the list:\")\n",
    "items.delete_item('PHP')\n",
    "for val in items.iterate_item():\n",
    "    print(val)"
   ]
  },
  {
   "cell_type": "code",
   "execution_count": null,
   "metadata": {},
   "outputs": [],
   "source": []
  },
  {
   "cell_type": "code",
   "execution_count": null,
   "metadata": {},
   "outputs": [],
   "source": []
  },
  {
   "cell_type": "code",
   "execution_count": null,
   "metadata": {},
   "outputs": [],
   "source": [
    "    "
   ]
  }
 ],
 "metadata": {
  "kernelspec": {
   "display_name": "Python 3",
   "language": "python",
   "name": "python3"
  },
  "language_info": {
   "codemirror_mode": {
    "name": "ipython",
    "version": 3
   },
   "file_extension": ".py",
   "mimetype": "text/x-python",
   "name": "python",
   "nbconvert_exporter": "python",
   "pygments_lexer": "ipython3",
   "version": "3.7.3"
  }
 },
 "nbformat": 4,
 "nbformat_minor": 2
}
