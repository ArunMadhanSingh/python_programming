{
 "cells": [
  {
   "cell_type": "markdown",
   "metadata": {},
   "source": [
    "Hello Everyone,\n",
    "\n",
    "And it's Day-99 of my #100DaysOfCode challenge, we seen lots of example program for past dayssss...."
   ]
  },
  {
   "cell_type": "markdown",
   "metadata": {},
   "source": [
    "This is the python program to count the white dots in image."
   ]
  },
  {
   "cell_type": "code",
   "execution_count": 13,
   "metadata": {},
   "outputs": [],
   "source": [
    "import cv2 \n",
    "path =\"white-dot.png'\"\n",
    "  \n",
    "# reading the image in grayscale mode \n",
    "gray = cv2.imread(path, 0) \n",
    "  \n",
    "# threshold \n",
    "th, threshed = cv2.threshold(gray, 100, 255,  \n",
    "          cv2.THRESH_BINARY|cv2.THRESH_OTSU) \n",
    "  \n",
    "# findcontours \n",
    "cnts = cv2.findContours(threshed, cv2.RETR_LIST,  \n",
    "                    cv2.CHAIN_APPROX_SIMPLE)[-2] \n",
    "  \n",
    "# filter by area \n",
    "s1 = 3\n",
    "s2 = 20\n",
    "xcnts = [] \n",
    "  \n",
    "for cnt in cnts: \n",
    "    if s1<cv2.contourArea(cnt) <s2: \n",
    "        xcnts.append(cnt) \n",
    "  \n",
    "# printing output \n",
    "print(\"\\nDots number: {}\".format(len(xcnts))) "
   ]
  },
  {
   "cell_type": "markdown",
   "metadata": {},
   "source": [
    "converting list to array.."
   ]
  },
  {
   "cell_type": "code",
   "execution_count": 15,
   "metadata": {},
   "outputs": [
    {
     "name": "stdout",
     "output_type": "stream",
     "text": [
      "The original list : [7, 4, 19, 3, 30, 8]\n",
      "List after conversion to array : array('i', [7, 4, 19, 3, 30, 8])\n"
     ]
    }
   ],
   "source": [
    "from array import array \n",
    "  \n",
    "# initializing list \n",
    "test_list = [7, 4, 19, 3, 30, 8] \n",
    "  \n",
    "# printing list \n",
    "print(\"The original list : \" + str(test_list)) \n",
    "  \n",
    "# Convert list to Python array \n",
    "# Using array() + data type indicator \n",
    "res = array(\"i\", test_list) \n",
    "  \n",
    "# Printing result \n",
    "print(\"List after conversion to array : \" + str(res))"
   ]
  },
  {
   "cell_type": "code",
   "execution_count": null,
   "metadata": {},
   "outputs": [],
   "source": []
  }
 ],
 "metadata": {
  "kernelspec": {
   "display_name": "Python 3",
   "language": "python",
   "name": "python3"
  },
  "language_info": {
   "codemirror_mode": {
    "name": "ipython",
    "version": 3
   },
   "file_extension": ".py",
   "mimetype": "text/x-python",
   "name": "python",
   "nbconvert_exporter": "python",
   "pygments_lexer": "ipython3",
   "version": "3.5.2"
  }
 },
 "nbformat": 4,
 "nbformat_minor": 2
}
