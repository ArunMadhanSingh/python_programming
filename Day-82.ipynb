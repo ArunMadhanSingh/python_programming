{
 "cells": [
  {
   "cell_type": "markdown",
   "metadata": {},
   "source": [
    "Hello Everyone,\n",
    "\n",
    "And it's Day-82 of <#100DaysOfCode>"
   ]
  },
  {
   "cell_type": "markdown",
   "metadata": {},
   "source": [
    "Todays task is to write a Python program to find the most common elements and their counts of a specified text."
   ]
  },
  {
   "cell_type": "code",
   "execution_count": 2,
   "metadata": {},
   "outputs": [
    {
     "name": "stdout",
     "output_type": "stream",
     "text": [
      "Original string: asrhuanialrauknshmi\n",
      "Most common three characters of the said string:\n",
      "[('a', 4), ('s', 2), ('r', 2)]\n"
     ]
    }
   ],
   "source": [
    "from collections import Counter\n",
    "s = 'asrhuanialrauknshmi'\n",
    "print(\"Original string: \"+s)\n",
    "print(\"Most common three characters of the said string:\")\n",
    "print(Counter(s).most_common(3))"
   ]
  },
  {
   "cell_type": "markdown",
   "metadata": {},
   "source": [
    "Task 2 is to Write a Python program to count the number of times a specific element presents in a deque object."
   ]
  },
  {
   "cell_type": "code",
   "execution_count": 5,
   "metadata": {},
   "outputs": [
    {
     "name": "stdout",
     "output_type": "stream",
     "text": [
      "Number of 9 in the sequence\n",
      "4\n",
      "Number of 4 in the sequence\n",
      "1\n"
     ]
    }
   ],
   "source": [
    "import collections\n",
    "nums = (9,8,6,9,7,4,7,0,7,5,2,2,5,5,3,0,9,9,7,1)\n",
    "nums_dq = collections.deque(nums)\n",
    "print(\"Number of 9 in the sequence\")\n",
    "print(nums_dq.count(9))\n",
    "print(\"Number of 4 in the sequence\")\n",
    "print(nums_dq.count(4))"
   ]
  },
  {
   "cell_type": "code",
   "execution_count": null,
   "metadata": {},
   "outputs": [],
   "source": []
  }
 ],
 "metadata": {
  "kernelspec": {
   "display_name": "Python 3",
   "language": "python",
   "name": "python3"
  },
  "language_info": {
   "codemirror_mode": {
    "name": "ipython",
    "version": 3
   },
   "file_extension": ".py",
   "mimetype": "text/x-python",
   "name": "python",
   "nbconvert_exporter": "python",
   "pygments_lexer": "ipython3",
   "version": "3.7.3"
  }
 },
 "nbformat": 4,
 "nbformat_minor": 2
}
