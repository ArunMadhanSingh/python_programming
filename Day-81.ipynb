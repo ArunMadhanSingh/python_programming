{
 "cells": [
  {
   "cell_type": "markdown",
   "metadata": {},
   "source": [
    "Hello Everyone,\n",
    "\n",
    "And it's Day-81 of <#100DaysOfCode>\n"
   ]
  },
  {
   "cell_type": "markdown",
   "metadata": {},
   "source": [
    "Todays task is to Write a Python program to check a dictionary is empty or not."
   ]
  },
  {
   "cell_type": "code",
   "execution_count": 1,
   "metadata": {},
   "outputs": [
    {
     "name": "stdout",
     "output_type": "stream",
     "text": [
      "Dictionary is empty\n"
     ]
    }
   ],
   "source": [
    "my_dict = {}\n",
    "\n",
    "if not bool(my_dict):\n",
    "    print(\"Dictionary is empty\")"
   ]
  },
  {
   "cell_type": "markdown",
   "metadata": {},
   "source": [
    "Write a Python program to get a dictionary from an object's fields."
   ]
  },
  {
   "cell_type": "code",
   "execution_count": 2,
   "metadata": {},
   "outputs": [
    {
     "name": "stdout",
     "output_type": "stream",
     "text": [
      "{'x': 'red', 'y': 'Yellow', 'z': 'Green'}\n"
     ]
    }
   ],
   "source": [
    "class dictObj(object):\n",
    "    def __init__(self):\n",
    "        self.x = 'red'\n",
    "        self.y = 'Yellow'\n",
    "        self.z = 'Green'\n",
    "    def do_nothing(self):\n",
    "         pass\n",
    "test = dictObj()\n",
    "print(test.__dict__)"
   ]
  },
  {
   "cell_type": "markdown",
   "metadata": {},
   "source": [
    "Write a Python program to remove duplicates from Dictionary."
   ]
  },
  {
   "cell_type": "code",
   "execution_count": 3,
   "metadata": {},
   "outputs": [
    {
     "name": "stdout",
     "output_type": "stream",
     "text": [
      "{'id1': {'name': ['Arun'], 'class': ['V'], 'subject_integration': ['english, math, science']}, 'id2': {'name': ['Madhan'], 'class': ['V'], 'subject_integration': ['english, math, science']}, 'id3': {'name': ['Sara'], 'class': ['V'], 'subject_integration': ['english, math, science']}}\n"
     ]
    }
   ],
   "source": [
    "student_data = {'id1': \n",
    "   {'name': ['Arun'], \n",
    "    'class': ['V'], \n",
    "    'subject_integration': ['english, math, science']\n",
    "   },\n",
    " 'id2': \n",
    "  {'name': ['Madhan'], \n",
    "    'class': ['V'], \n",
    "    'subject_integration': ['english, math, science']\n",
    "   },\n",
    " 'id3': \n",
    "    {'name': ['Sara'], \n",
    "    'class': ['V'], \n",
    "    'subject_integration': ['english, math, science']\n",
    "   },\n",
    " 'id4': \n",
    "   {'name': ['Arun'], \n",
    "    'class': ['V'], \n",
    "    'subject_integration': ['english, math, science']\n",
    "   },\n",
    "}\n",
    "\n",
    "result = {}\n",
    "\n",
    "for key,value in student_data.items():\n",
    "    if value not in result.values():\n",
    "        result[key] = value\n",
    "\n",
    "print(result)"
   ]
  },
  {
   "cell_type": "code",
   "execution_count": null,
   "metadata": {},
   "outputs": [],
   "source": []
  },
  {
   "cell_type": "code",
   "execution_count": null,
   "metadata": {},
   "outputs": [],
   "source": []
  }
 ],
 "metadata": {
  "kernelspec": {
   "display_name": "Python 3",
   "language": "python",
   "name": "python3"
  },
  "language_info": {
   "codemirror_mode": {
    "name": "ipython",
    "version": 3
   },
   "file_extension": ".py",
   "mimetype": "text/x-python",
   "name": "python",
   "nbconvert_exporter": "python",
   "pygments_lexer": "ipython3",
   "version": "3.7.3"
  }
 },
 "nbformat": 4,
 "nbformat_minor": 2
}
