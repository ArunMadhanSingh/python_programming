{
 "cells": [
  {
   "cell_type": "markdown",
   "metadata": {},
   "source": [
    "Hello Everyone,\n",
    "\n",
    "And it's Day-96 of <#100DaysOfCode>"
   ]
  },
  {
   "cell_type": "markdown",
   "metadata": {},
   "source": [
    "### This is a Python Program to create a dictionary with key as first character and value as words starting with that character."
   ]
  },
  {
   "cell_type": "code",
   "execution_count": 3,
   "metadata": {},
   "outputs": [
    {
     "name": "stdout",
     "output_type": "stream",
     "text": [
      "Enter string:Hey you i am a programmer\n",
      "y : ['you']\n",
      "p : ['programmer']\n",
      "H : ['Hey']\n",
      "i : ['i']\n",
      "a : ['am', 'a']\n"
     ]
    }
   ],
   "source": [
    "test_string=input(\"Enter string:\")\n",
    "l=test_string.split()\n",
    "d={}\n",
    "for word in l:\n",
    "    if(word[0] not in d.keys()):\n",
    "        d[word[0]]=[]\n",
    "        d[word[0]].append(word)\n",
    "    else:\n",
    "        if(word not in d[word[0]]):\n",
    "            d[word[0]].append(word)\n",
    "for k,v in d.items():\n",
    "        print(k,\":\",v)"
   ]
  },
  {
   "cell_type": "markdown",
   "metadata": {},
   "source": [
    "Explanation:"
   ]
  },
  {
   "cell_type": "markdown",
   "metadata": {},
   "source": [
    "->Enter a string and store it in a variable.\n",
    "\n",
    "->An empty dictionary is declared.\n",
    "\n",
    "->The string is split into words and is stored in a list.\n",
    "\n",
    "->A for loop is used to traverse through the words in the list.\n",
    "\n",
    "->An if statement is used to check if the word already present as a key in the dictionary.\n",
    "\n",
    "->If it is not present, the letter of the word is initialized as the key and the word as the value and they are append to a sublist created in the list.\n",
    "\n",
    "->If it is present, the word is added as the value to the corresponding sublist.\n",
    "\n",
    "->The final dictionary is printed."
   ]
  },
  {
   "cell_type": "markdown",
   "metadata": {},
   "source": [
    "### This is a Python Program to check common letters in the two input strings."
   ]
  },
  {
   "cell_type": "code",
   "execution_count": 4,
   "metadata": {},
   "outputs": [
    {
     "name": "stdout",
     "output_type": "stream",
     "text": [
      "Enter first string:How are you buddy !\n",
      "Enter second string:I'm good, buddy\n",
      "The common letters are:\n",
      "u\n",
      " \n",
      "b\n",
      "o\n",
      "d\n",
      "y\n"
     ]
    }
   ],
   "source": [
    "s1=input(\"Enter first string:\")\n",
    "s2=input(\"Enter second string:\")\n",
    "\n",
    "a=list(set(s1)&set(s2))\n",
    "print(\"The common letters are:\")\n",
    "\n",
    "for i in a:\n",
    "    print(i)"
   ]
  },
  {
   "cell_type": "code",
   "execution_count": null,
   "metadata": {},
   "outputs": [],
   "source": []
  },
  {
   "cell_type": "code",
   "execution_count": null,
   "metadata": {},
   "outputs": [],
   "source": []
  },
  {
   "cell_type": "code",
   "execution_count": null,
   "metadata": {},
   "outputs": [],
   "source": []
  },
  {
   "cell_type": "code",
   "execution_count": null,
   "metadata": {},
   "outputs": [],
   "source": []
  },
  {
   "cell_type": "code",
   "execution_count": null,
   "metadata": {},
   "outputs": [],
   "source": []
  }
 ],
 "metadata": {
  "kernelspec": {
   "display_name": "Python 3",
   "language": "python",
   "name": "python3"
  },
  "language_info": {
   "codemirror_mode": {
    "name": "ipython",
    "version": 3
   },
   "file_extension": ".py",
   "mimetype": "text/x-python",
   "name": "python",
   "nbconvert_exporter": "python",
   "pygments_lexer": "ipython3",
   "version": "3.5.2"
  }
 },
 "nbformat": 4,
 "nbformat_minor": 2
}
