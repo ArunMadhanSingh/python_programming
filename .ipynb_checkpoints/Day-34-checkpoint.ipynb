{
 "cells": [
  {
   "cell_type": "markdown",
   "metadata": {},
   "source": [
    "Hello everyone, Welcome back \n",
    "\n",
    "And it's Day-34 of <#100DaysOfCode>\n",
    "\n",
    "Today we are gonna see some examples in python."
   ]
  },
  {
   "cell_type": "markdown",
   "metadata": {},
   "source": [
    "To understand this example, you should have the knowledge of following Python programming topics:\n",
    "\n",
    "Python Sets\n",
    "\n",
    "\n",
    "Python Input, Output and Import"
   ]
  },
  {
   "cell_type": "markdown",
   "metadata": {},
   "source": [
    "-->Python offers a datatype called set whose elements must be unique. It can be used to perform different set operations like union, intersection, difference and symmetric difference."
   ]
  },
  {
   "cell_type": "code",
   "execution_count": 4,
   "metadata": {},
   "outputs": [
    {
     "name": "stdout",
     "output_type": "stream",
     "text": [
      "Union of M and N is {0, 1, 2, 3, 4, 5, 6, 8}\n",
      "Intersection of M and N is {2, 4}\n",
      "Difference of M and N is {8, 0, 6}\n",
      "Symmetric difference of M and N is {0, 1, 3, 5, 6, 8}\n"
     ]
    }
   ],
   "source": [
    "                  # Program to perform different set operations like in mathematics\n",
    "\n",
    "# define three sets\n",
    "M = {0, 2, 4, 6, 8};\n",
    "N = {1, 2, 3, 4, 5};\n",
    "\n",
    "# set union\n",
    "print(\"Union of M and N is\",M | N)\n",
    "\n",
    "# set intersection\n",
    "print(\"Intersection of M and N is\",M & N)\n",
    "\n",
    "# set difference\n",
    "print(\"Difference of M and N is\",M - N)\n",
    "\n",
    "# set symmetric difference\n",
    "print(\"Symmetric difference of M and N is\",M ^ N)"
   ]
  },
  {
   "cell_type": "markdown",
   "metadata": {},
   "source": [
    "==>In this program, we take two different sets and perform different set operations on them. This can equivalently done by using set methods."
   ]
  },
  {
   "cell_type": "code",
   "execution_count": null,
   "metadata": {},
   "outputs": [],
   "source": []
  },
  {
   "cell_type": "code",
   "execution_count": null,
   "metadata": {},
   "outputs": [],
   "source": []
  },
  {
   "cell_type": "code",
   "execution_count": null,
   "metadata": {},
   "outputs": [],
   "source": []
  },
  {
   "cell_type": "code",
   "execution_count": null,
   "metadata": {},
   "outputs": [],
   "source": []
  },
  {
   "cell_type": "code",
   "execution_count": null,
   "metadata": {},
   "outputs": [],
   "source": []
  },
  {
   "cell_type": "code",
   "execution_count": null,
   "metadata": {},
   "outputs": [],
   "source": []
  }
 ],
 "metadata": {
  "kernelspec": {
   "display_name": "Python 3",
   "language": "python",
   "name": "python3"
  },
  "language_info": {
   "codemirror_mode": {
    "name": "ipython",
    "version": 3
   },
   "file_extension": ".py",
   "mimetype": "text/x-python",
   "name": "python",
   "nbconvert_exporter": "python",
   "pygments_lexer": "ipython3",
   "version": "3.5.2"
  }
 },
 "nbformat": 4,
 "nbformat_minor": 2
}
