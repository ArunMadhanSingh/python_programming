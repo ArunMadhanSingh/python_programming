{
 "cells": [
  {
   "cell_type": "markdown",
   "metadata": {},
   "source": [
    "Hello Everyone, Welcome back ....!\n",
    "\n",
    "And it's DAy-37 of <#100DaysOfCode>.\n"
   ]
  },
  {
   "cell_type": "markdown",
   "metadata": {},
   "source": [
    "Today we are gonna work on some examples in python."
   ]
  },
  {
   "cell_type": "code",
   "execution_count": 1,
   "metadata": {},
   "outputs": [],
   "source": [
    "\n",
    "#ask the user to enter four names of players one after the other, and store it in a list called \"players\"\n",
    "#create a list of four different weapons and store it in a list called \"weapons\"\n",
    "#assign each player a weapon, by looping over both lists simulatenously. e.g Player 1: ironman; Player 2: hulk\n",
    "#Print the result\n",
    "\n",
    "     #1. Create an empty list\n",
    "players=[]\n",
    "    #2. Create a list of 4 weapons\n",
    "weapons=[\"ironman\",\"hulk\", \"thor\", \"ultron\"]\n",
    "\n",
    "#  Create the main sub\n",
    "def main():\n",
    "   #ask for the name of player 1\n",
    "   player1=input(\"Enter name of Player 1:\")\n",
    "   #append the name of player 1 to the list of players\n",
    "   players.append(player1)\n",
    "   #ask for the name of player 2\n",
    "   player2=input(\"Enter name of Player 2:\")\n",
    "   #append the name of player 2 to the list of players\n",
    "   players.append(player2)\n",
    "   player3=input(\"Enter name of Player 3:\")\n",
    "   players.append(player3)\n",
    "   player4=input(\"Enter name of Player 4:\")\n",
    "   players.append(player4)\n",
    "\n",
    "   #print the list of players that have been entered\n",
    "   print(\"The four players are:\", players)\n",
    "\n",
    "   #assign each player a weapon and print the result(loop over both lists)\n",
    "   for (x,y) in zip(players,weapons):\n",
    "      print(x, \"has been assigned the:\",y)\n",
    "   \n",
    "\n",
    "   "
   ]
  },
  {
   "cell_type": "markdown",
   "metadata": {},
   "source": [
    "IN the above program listing the people and assigning them weapon name."
   ]
  },
  {
   "cell_type": "code",
   "execution_count": 2,
   "metadata": {},
   "outputs": [
    {
     "name": "stdout",
     "output_type": "stream",
     "text": [
      "Enter name of Player 1:TonyStark\n",
      "Enter name of Player 2:Dr\n",
      "Enter name of Player 3:Chris\n",
      "Enter name of Player 4:Ultron\n",
      "The four players are: ['TonyStark', 'Dr', 'Chris', 'Ultron']\n",
      "TonyStark has been assigned the: ironman\n",
      "Dr has been assigned the: hulk\n",
      "Chris has been assigned the: thor\n",
      "Ultron has been assigned the: ultron\n"
     ]
    }
   ],
   "source": [
    "main()"
   ]
  },
  {
   "cell_type": "code",
   "execution_count": null,
   "metadata": {},
   "outputs": [],
   "source": []
  },
  {
   "cell_type": "code",
   "execution_count": null,
   "metadata": {},
   "outputs": [],
   "source": []
  },
  {
   "cell_type": "code",
   "execution_count": null,
   "metadata": {},
   "outputs": [],
   "source": []
  }
 ],
 "metadata": {
  "kernelspec": {
   "display_name": "Python 3",
   "language": "python",
   "name": "python3"
  },
  "language_info": {
   "codemirror_mode": {
    "name": "ipython",
    "version": 3
   },
   "file_extension": ".py",
   "mimetype": "text/x-python",
   "name": "python",
   "nbconvert_exporter": "python",
   "pygments_lexer": "ipython3",
   "version": "3.5.2"
  }
 },
 "nbformat": 4,
 "nbformat_minor": 2
}
