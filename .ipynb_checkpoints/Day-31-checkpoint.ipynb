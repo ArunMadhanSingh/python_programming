{
 "cells": [
  {
   "cell_type": "markdown",
   "metadata": {},
   "source": [
    "Hello everyone, Welcome back.....!\n",
    "\n",
    "This is your Arun.\n",
    "\n",
    "And it's Day-31 of <#100DaysOfCode>"
   ]
  },
  {
   "cell_type": "markdown",
   "metadata": {},
   "source": [
    "Today we are gonna learn about Different form of inheritance in python. "
   ]
  },
  {
   "cell_type": "markdown",
   "metadata": {},
   "source": [
    "1. Single inheritance: When a child class inherits from only one parent class, it is called as single inheritance. We saw an example above.\n",
    "\n",
    "\n",
    "2. Multiple inheritance: When a child class inherits from multiple parent classes, it is called as multiple inheritance."
   ]
  },
  {
   "cell_type": "code",
   "execution_count": 14,
   "metadata": {},
   "outputs": [],
   "source": [
    "    class B1: \n",
    "        def __init__(self): \n",
    "            self.str1 = \"Goal\"\n",
    "            print (\"B1\")\n",
    "\n",
    "\n",
    "    class B2:\n",
    "        def __init__(self): \n",
    "            self.str2 = \"Get\"        \n",
    "            print (\"B2\")\n",
    "\n",
    "    class Derived(B1, B2): \n",
    "        def __init__(self): \n",
    "\n",
    "            # Calling constructors of Base1 \n",
    "            # and Base2 classes \n",
    "            B1.__init__(self) \n",
    "            B2.__init__(self) \n",
    "            print (\"Arrow\")\n",
    "\n",
    "        def printStrs(self): \n",
    "            print(self.str1, self.str2) \n",
    "\n",
    "\n"
   ]
  },
  {
   "cell_type": "code",
   "execution_count": 15,
   "metadata": {},
   "outputs": [
    {
     "name": "stdout",
     "output_type": "stream",
     "text": [
      "B1\n",
      "B2\n",
      "Arrow\n",
      "Goal Get\n"
     ]
    }
   ],
   "source": [
    "ob = Derived() \n",
    "ob.printStrs() "
   ]
  },
  {
   "cell_type": "markdown",
   "metadata": {},
   "source": [
    "### Multilevel inheritance: When we have child and grand child relationship."
   ]
  },
  {
   "cell_type": "code",
   "execution_count": 20,
   "metadata": {},
   "outputs": [
    {
     "name": "stdout",
     "output_type": "stream",
     "text": [
      "Alpha 22 NYK\n"
     ]
    }
   ],
   "source": [
    "class Base(object):      \n",
    "    # Constructor \n",
    "    def __init__(self, name): \n",
    "        self.name = name \n",
    "  \n",
    "    # To get name \n",
    "    def getName(self): \n",
    "        return self.name \n",
    "  \n",
    "  \n",
    "# Sub class \n",
    "class Child(Base): \n",
    "      \n",
    "    # Constructor \n",
    "    def __init__(self, name, age): \n",
    "        Base.__init__(self, name) \n",
    "        self.age = age \n",
    "  \n",
    "    # To get name \n",
    "    def getAge(self): \n",
    "        return self.age \n",
    "  \n",
    " #  Sub class \n",
    "class GrandChild(Child): \n",
    "      \n",
    "    # Constructor \n",
    "    def __init__(self, name, age, address): \n",
    "        Child.__init__(self, name, age) \n",
    "        self.address = address \n",
    "  \n",
    "    # To get address \n",
    "    def getAddress(self): \n",
    "        return self.address         \n",
    "  \n",
    " \n",
    "g = GrandChild(\"Alpha\", 22, \"NYK\")   \n",
    "print(g.getName(), g.getAge(), g.getAddress()) \n"
   ]
  },
  {
   "cell_type": "code",
   "execution_count": null,
   "metadata": {},
   "outputs": [],
   "source": []
  },
  {
   "cell_type": "code",
   "execution_count": null,
   "metadata": {},
   "outputs": [],
   "source": []
  },
  {
   "cell_type": "code",
   "execution_count": null,
   "metadata": {},
   "outputs": [],
   "source": []
  }
 ],
 "metadata": {
  "kernelspec": {
   "display_name": "Python 3",
   "language": "python",
   "name": "python3"
  },
  "language_info": {
   "codemirror_mode": {
    "name": "ipython",
    "version": 3
   },
   "file_extension": ".py",
   "mimetype": "text/x-python",
   "name": "python",
   "nbconvert_exporter": "python",
   "pygments_lexer": "ipython3",
   "version": "3.5.2"
  }
 },
 "nbformat": 4,
 "nbformat_minor": 2
}
