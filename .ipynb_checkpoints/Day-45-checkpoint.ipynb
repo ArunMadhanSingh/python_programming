{
 "cells": [
  {
   "cell_type": "markdown",
   "metadata": {},
   "source": [
    "And it's Day-45 of <#100DaysOfCode>\n",
    "\n",
    "Todays task is to write a Python program to check a sequence of numbers is an arithmetic progression or not.\n"
   ]
  },
  {
   "cell_type": "markdown",
   "metadata": {},
   "source": [
    "In mathematics, an arithmetic progression or arithmetic sequence is a sequence of numbers such that the difference between the consecutive terms is constant.\n",
    "\n",
    "For example, the sequence 5, 7, 9, 11, 13, 15 ... is an arithmetic progression with common difference of 2."
   ]
  },
  {
   "cell_type": "code",
   "execution_count": 14,
   "metadata": {},
   "outputs": [
    {
     "name": "stdout",
     "output_type": "stream",
     "text": [
      "True\n",
      "False\n"
     ]
    }
   ],
   "source": [
    "def is_arithmetic(l):\n",
    "    delta = l[1] - l[0]\n",
    "    for index in range(len(l) - 1):\n",
    "        if not (l[index + 1] - l[index] == delta):\n",
    "             return False\n",
    "    return True\n",
    "\n",
    "print(is_arithmetic([5, 7, 9, 11, 13, 15])) #here the numbers are in sequence\n",
    "print(is_arithmetic([5, 6, 7, 8, 9, 10, 12])) #here after 10 we give input as 12 so it is false"
   ]
  },
  {
   "cell_type": "markdown",
   "metadata": {},
   "source": [
    "Write a Python program to find the single number which occurs odd numbers and other numbers occur even number."
   ]
  },
  {
   "cell_type": "code",
   "execution_count": 15,
   "metadata": {},
   "outputs": [],
   "source": [
    "def odd_occurrence(arr):\n",
    " \n",
    "    # Initialize result\n",
    "    result = 0\n",
    "     \n",
    "    # Traverse the array\n",
    "    for element in arr:\n",
    "        #  using XOR\n",
    "        result = result ^ element\n",
    " \n",
    "    return result\n",
    " \n",
    "# Test data\n",
    "num1 = [ 4, 5, 4, 5, 2, 2, 3, 3, 2, 4, 4 ]"
   ]
  },
  {
   "cell_type": "code",
   "execution_count": 16,
   "metadata": {},
   "outputs": [
    {
     "data": {
      "text/plain": [
       "2"
      ]
     },
     "execution_count": 16,
     "metadata": {},
     "output_type": "execute_result"
    }
   ],
   "source": [
    "odd_occurrence(num1)"
   ]
  },
  {
   "cell_type": "code",
   "execution_count": null,
   "metadata": {},
   "outputs": [],
   "source": []
  },
  {
   "cell_type": "code",
   "execution_count": null,
   "metadata": {},
   "outputs": [],
   "source": []
  },
  {
   "cell_type": "code",
   "execution_count": null,
   "metadata": {},
   "outputs": [],
   "source": []
  }
 ],
 "metadata": {
  "kernelspec": {
   "display_name": "Python 3",
   "language": "python",
   "name": "python3"
  },
  "language_info": {
   "codemirror_mode": {
    "name": "ipython",
    "version": 3
   },
   "file_extension": ".py",
   "mimetype": "text/x-python",
   "name": "python",
   "nbconvert_exporter": "python",
   "pygments_lexer": "ipython3",
   "version": "3.5.2"
  }
 },
 "nbformat": 4,
 "nbformat_minor": 2
}
