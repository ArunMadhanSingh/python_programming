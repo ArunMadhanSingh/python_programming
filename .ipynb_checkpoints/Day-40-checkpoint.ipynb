{
 "cells": [
  {
   "cell_type": "markdown",
   "metadata": {},
   "source": [
    "HELLO EVERYONE,....\n",
    "\n",
    "Welcome back, And it's Day-40 of <#100DaysOfCode>.\n",
    "\n",
    "Today we are gonna learn about isinstance in python and how to implement it.."
   ]
  },
  {
   "cell_type": "markdown",
   "metadata": {},
   "source": [
    "What is isinstance ?"
   ]
  },
  {
   "cell_type": "markdown",
   "metadata": {},
   "source": [
    "*The Python isinstance is used to check if the first object that is the argument is an instance or subclass of the classinfo class that is the second argument. \n",
    "\n",
    "The syntax for the isinstance in Python is as follows. \n",
    "\n",
    "   ----->isinstance(object, classinfo)"
   ]
  },
  {
   "cell_type": "markdown",
   "metadata": {},
   "source": [
    "Object: This is the object that needs to be checked. \n",
    "\n",
    "Classinfo: This the class, info or the tuple of classes that the object needs to be checked against."
   ]
  },
  {
   "cell_type": "markdown",
   "metadata": {},
   "source": [
    "Return Value:\n",
    "\n",
    "\n",
    "When the isinstance is used in a program, the return value depends on a number of conditions, as explained in the pointers below. \n",
    "\n",
    "-->True is returned if the object is a subclass of the classinfo or tuple of classes. \n",
    "\n",
    "-->False is returned if the object is not a subclass of the classinfo or tuple of classes. \n",
    "\n",
    "If in a particular situation, the classinfo is not a type or a tuple of types, then a typeerror exception is raised onto the screen of the user. "
   ]
  },
  {
   "cell_type": "markdown",
   "metadata": {},
   "source": [
    "To understand use of isinstance better, let us see an example :"
   ]
  },
  {
   "cell_type": "code",
   "execution_count": 10,
   "metadata": {},
   "outputs": [
    {
     "name": "stdout",
     "output_type": "stream",
     "text": [
      "True\n",
      "False\n",
      "True\n"
     ]
    }
   ],
   "source": [
    "class Zoo:\n",
    "  a = 5\n",
    "fooInstance = Zoo()\n",
    "print(isinstance(fooInstance, Zoo))  \n",
    "print(isinstance(fooInstance, (list, tuple))) \n",
    "print(isinstance(fooInstance, (list, tuple, Zoo)))"
   ]
  },
  {
   "cell_type": "markdown",
   "metadata": {},
   "source": [
    "To get clear idea let's see one more example :"
   ]
  },
  {
   "cell_type": "code",
   "execution_count": 9,
   "metadata": {},
   "outputs": [
    {
     "name": "stdout",
     "output_type": "stream",
     "text": [
      "[1, 2, 3] instance of list ? True\n",
      "\n",
      "[1, 2, 3] instance of dict ? False\n",
      "\n",
      "[1, 2, 3] instance of dict or list ? True\n",
      "\n",
      "5 instance of list ? False\n",
      "\n",
      "5 instance of int ? True\n"
     ]
    }
   ],
   "source": [
    "numbers = [1, 2, 3]\n",
    "result = isinstance(numbers, list)\n",
    "print(numbers,'instance of list ?', result)\n",
    "print()\n",
    "result = isinstance(numbers, dict)\n",
    "print(numbers,'instance of dict ?', result)\n",
    "print()\n",
    "result = isinstance(numbers, (dict, list))\n",
    "print(numbers,'instance of dict or list ?', result)\n",
    "print()\n",
    "number = 5\n",
    "result = isinstance(number, list)\n",
    "print(number,'instance of list ?', result)\n",
    "print()\n",
    "result = isinstance(number, int)\n",
    "print(number,'instance of int ?', result)"
   ]
  },
  {
   "cell_type": "code",
   "execution_count": null,
   "metadata": {},
   "outputs": [],
   "source": []
  },
  {
   "cell_type": "code",
   "execution_count": null,
   "metadata": {},
   "outputs": [],
   "source": []
  }
 ],
 "metadata": {
  "kernelspec": {
   "display_name": "Python 3",
   "language": "python",
   "name": "python3"
  },
  "language_info": {
   "codemirror_mode": {
    "name": "ipython",
    "version": 3
   },
   "file_extension": ".py",
   "mimetype": "text/x-python",
   "name": "python",
   "nbconvert_exporter": "python",
   "pygments_lexer": "ipython3",
   "version": "3.5.2"
  }
 },
 "nbformat": 4,
 "nbformat_minor": 2
}
