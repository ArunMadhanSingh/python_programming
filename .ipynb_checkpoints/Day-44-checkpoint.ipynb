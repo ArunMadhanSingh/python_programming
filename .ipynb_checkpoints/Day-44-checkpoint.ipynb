{
 "cells": [
  {
   "cell_type": "markdown",
   "metadata": {},
   "source": [
    "Hello Everyone, \n",
    "\n",
    "And it's Day-44 of <#100DaysOfCode>\n"
   ]
  },
  {
   "cell_type": "markdown",
   "metadata": {},
   "source": [
    "Todays challenge is to write a Python program to find the length of the last word:"
   ]
  },
  {
   "cell_type": "code",
   "execution_count": 12,
   "metadata": {},
   "outputs": [
    {
     "name": "stdout",
     "output_type": "stream",
     "text": [
      "4\n",
      "5\n",
      "1\n",
      "3\n"
     ]
    }
   ],
   "source": [
    "def length_of_last_word(s):\n",
    "        words = s.split()\n",
    "        if len(words) == 0:\n",
    "            return 0\n",
    "        return len(words[-1])\n",
    "\n",
    "print(length_of_last_word(\"Todays challenge is to find length of last word\"))  #word - 4\n",
    "print(length_of_last_word(\"Alpha\")) #Alpha - 5 (words)\n",
    "print(length_of_last_word(\"a\")) # a -1\n",
    "print(length_of_last_word(\"123\")) # 123 - 3"
   ]
  },
  {
   "cell_type": "markdown",
   "metadata": {},
   "source": [
    " write a Python program to add two binary numbers:"
   ]
  },
  {
   "cell_type": "code",
   "execution_count": 13,
   "metadata": {},
   "outputs": [
    {
     "name": "stdout",
     "output_type": "stream",
     "text": [
      "100\n",
      "110\n",
      "1110\n",
      "11110110\n"
     ]
    }
   ],
   "source": [
    "def add_binary_nums(x,y):\n",
    "        max_len = max(len(x), len(y))\n",
    "\n",
    "        x = x.zfill(max_len)\n",
    "        y = y.zfill(max_len)\n",
    "\n",
    "        result = \"\"\n",
    "        carry = 0\n",
    "\n",
    "        for i in range(max_len-1, -1, -1):\n",
    "            r = carry\n",
    "            r += 1 if x[i] == '1' else 0\n",
    "            r += 1 if y[i] == '1' else 0\n",
    "            result = ('1' if r % 2 == 1 else '0') + result\n",
    "            carry = 0 if r < 2 else 1       \n",
    "\n",
    "        if carry !=0 : result = '1' + result\n",
    "\n",
    "        return result.zfill(max_len)\n",
    "    \n",
    "print(add_binary_nums('11', '1'))\n",
    "print(add_binary_nums('100', '10'))\n",
    "print(add_binary_nums('111', '111'))\n",
    "print(add_binary_nums('11110101', '1'))"
   ]
  },
  {
   "cell_type": "code",
   "execution_count": null,
   "metadata": {},
   "outputs": [],
   "source": []
  },
  {
   "cell_type": "code",
   "execution_count": null,
   "metadata": {},
   "outputs": [],
   "source": []
  },
  {
   "cell_type": "code",
   "execution_count": null,
   "metadata": {},
   "outputs": [],
   "source": []
  }
 ],
 "metadata": {
  "kernelspec": {
   "display_name": "Python 3",
   "language": "python",
   "name": "python3"
  },
  "language_info": {
   "codemirror_mode": {
    "name": "ipython",
    "version": 3
   },
   "file_extension": ".py",
   "mimetype": "text/x-python",
   "name": "python",
   "nbconvert_exporter": "python",
   "pygments_lexer": "ipython3",
   "version": "3.5.2"
  }
 },
 "nbformat": 4,
 "nbformat_minor": 2
}
