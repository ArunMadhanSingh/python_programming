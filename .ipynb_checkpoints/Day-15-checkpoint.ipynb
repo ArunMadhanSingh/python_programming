{
 "cells": [
  {
   "cell_type": "markdown",
   "metadata": {},
   "source": [
    "Hello Everyone,\n",
    "\n",
    "Welcome back, This is your Arun.\n",
    "\n",
    "It's Day-15 0f <100daysofcode>"
   ]
  },
  {
   "cell_type": "markdown",
   "metadata": {},
   "source": [
    "Today we gonna see some examples programs."
   ]
  },
  {
   "cell_type": "markdown",
   "metadata": {},
   "source": [
    "1. find an area of circle "
   ]
  },
  {
   "cell_type": "markdown",
   "metadata": {},
   "source": [
    "Area = pi * r^2\n",
    "\n",
    "where r is radius of circle"
   ]
  },
  {
   "cell_type": "code",
   "execution_count": 7,
   "metadata": {},
   "outputs": [],
   "source": [
    "# python program to find area of a circle\n",
    "\n",
    "def area(r): # function area is defined\n",
    "    pi = 3.142 # value for pi\n",
    "    return pi *(r*r) "
   ]
  },
  {
   "cell_type": "code",
   "execution_count": 8,
   "metadata": {},
   "outputs": [
    {
     "data": {
      "text/plain": [
       "50.272"
      ]
     },
     "execution_count": 8,
     "metadata": {},
     "output_type": "execute_result"
    }
   ],
   "source": [
    "area(4)"
   ]
  },
  {
   "cell_type": "markdown",
   "metadata": {},
   "source": [
    "2. Python program to check whether a number is Prime or not"
   ]
  },
  {
   "cell_type": "markdown",
   "metadata": {},
   "source": [
    "Prime number is a natural number greater than 1 that was divisible by 1 and itself. The few prime number was {2,3,5,7,11,13.....} "
   ]
  },
  {
   "cell_type": "code",
   "execution_count": 21,
   "metadata": {},
   "outputs": [
    {
     "name": "stdout",
     "output_type": "stream",
     "text": [
      "12 is not a prime number\n"
     ]
    }
   ],
   "source": [
    "# Python program to check if given number is prime or not \n",
    "  \n",
    "num = 12\n",
    "  \n",
    "             # If given number is greater than 1 \n",
    "if num > 1: \n",
    "      \n",
    "                             # Iterate from 2 to n / 2  \n",
    "    for i in range(2, num//2): \n",
    "         \n",
    "                             # If num is divisible by any number between  \n",
    "                              # 2 and n / 2, it is not prime  \n",
    "        if (num % i) == 0: \n",
    "            print(num, \"is not a prime number\") \n",
    "            break\n",
    "    else: \n",
    "        print(num, \"is a prime number\") \n",
    "  \n",
    "\n",
    " \n",
    "else: \n",
    "    print(num, \"is not a prime number\") "
   ]
  },
  {
   "cell_type": "code",
   "execution_count": null,
   "metadata": {},
   "outputs": [],
   "source": []
  },
  {
   "cell_type": "code",
   "execution_count": null,
   "metadata": {},
   "outputs": [],
   "source": []
  }
 ],
 "metadata": {
  "kernelspec": {
   "display_name": "Python 3",
   "language": "python",
   "name": "python3"
  },
  "language_info": {
   "codemirror_mode": {
    "name": "ipython",
    "version": 3
   },
   "file_extension": ".py",
   "mimetype": "text/x-python",
   "name": "python",
   "nbconvert_exporter": "python",
   "pygments_lexer": "ipython3",
   "version": "3.7.3"
  }
 },
 "nbformat": 4,
 "nbformat_minor": 2
}
