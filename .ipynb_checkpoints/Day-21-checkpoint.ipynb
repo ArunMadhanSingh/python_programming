{
 "cells": [
  {
   "cell_type": "markdown",
   "metadata": {},
   "source": [
    "It's Day-21 of <#100DaysOfCode>"
   ]
  },
  {
   "cell_type": "markdown",
   "metadata": {},
   "source": [
    "Today we are gonna learn about \"iteration\" in python."
   ]
  },
  {
   "cell_type": "markdown",
   "metadata": {},
   "source": [
    "In general iteration means repitition of a process."
   ]
  },
  {
   "cell_type": "markdown",
   "metadata": {},
   "source": [
    "* Repeated execution of a set of statements is called iteration.\n",
    "\n",
    "* Iteration statements or loop statements allow us to execute a block of statements as long as the condition is true.\n",
    "\n",
    "* Loops statements are used when we need to run same code again and again, each time with a different value"
   ]
  },
  {
   "cell_type": "markdown",
   "metadata": {},
   "source": [
    "Type of iteration statement in python 3,"
   ]
  },
  {
   "cell_type": "markdown",
   "metadata": {},
   "source": [
    "for example:"
   ]
  },
  {
   "cell_type": "code",
   "execution_count": 3,
   "metadata": {},
   "outputs": [
    {
     "name": "stdout",
     "output_type": "stream",
     "text": [
      "0\n",
      "1\n",
      "2\n",
      "3\n",
      "4\n"
     ]
    }
   ],
   "source": [
    "x = 0\n",
    "while (x < 5):\n",
    "   print(x)\n",
    "   x = x + 1"
   ]
  },
  {
   "cell_type": "markdown",
   "metadata": {},
   "source": [
    "### while loop with else statement :"
   ]
  },
  {
   "cell_type": "code",
   "execution_count": 4,
   "metadata": {},
   "outputs": [
    {
     "name": "stdout",
     "output_type": "stream",
     "text": [
      "inside while loop value of x is  1\n",
      "inside while loop value of x is  2\n",
      "inside while loop value of x is  3\n",
      "inside while loop value of x is  4\n",
      "inside else value of x is  5\n"
     ]
    }
   ],
   "source": [
    "x= 1\n",
    "while (x < 5):\n",
    "   print('inside while loop value of x is ',x)\n",
    "   x = x + 1\n",
    "else:\n",
    "   print('inside else value of x is ', x)"
   ]
  },
  {
   "cell_type": "markdown",
   "metadata": {},
   "source": [
    "### infinite while loop in python:"
   ]
  },
  {
   "cell_type": "code",
   "execution_count": 1,
   "metadata": {},
   "outputs": [
    {
     "name": "stdout",
     "output_type": "stream",
     "text": [
      "hello\n"
     ]
    }
   ],
   "source": [
    "x = 1\n",
    "while(x == 1):\n",
    "    print('hello') # no limit was mentioned\n",
    "    break"
   ]
  },
  {
   "cell_type": "markdown",
   "metadata": {},
   "source": [
    "### iteration in for loop:"
   ]
  },
  {
   "cell_type": "code",
   "execution_count": 2,
   "metadata": {},
   "outputs": [
    {
     "name": "stdout",
     "output_type": "stream",
     "text": [
      "0\n",
      "1\n",
      "2\n",
      "3\n",
      "4\n",
      "5\n",
      "6\n",
      "7\n",
      "8\n",
      "9\n"
     ]
    }
   ],
   "source": [
    "for i in range(0,10):\n",
    "    print(i)"
   ]
  },
  {
   "cell_type": "markdown",
   "metadata": {},
   "source": [
    "The range() Function Parameters\n",
    "\n",
    "0 : Starting number of the sequence.\n",
    "\n",
    "10 : Generate numbers up to, but not including this number.\n",
    "\n",
    "step(Optional): Determines the increment between each numbers in the sequence.\n"
   ]
  },
  {
   "cell_type": "markdown",
   "metadata": {},
   "source": [
    "### for loop with else :"
   ]
  },
  {
   "cell_type": "code",
   "execution_count": 1,
   "metadata": {},
   "outputs": [
    {
     "name": "stdout",
     "output_type": "stream",
     "text": [
      "list does not have 5\n",
      "list does not have 5\n",
      "list does not have 5\n",
      "list does not have 5\n",
      "list does not have 5\n"
     ]
    }
   ],
   "source": [
    "list=[2,3,4,6,7]\n",
    "\n",
    "for i in range(0,len(list)):\n",
    "    if(list[i]==5):\n",
    "        print('list has 5')\n",
    "        break\n",
    "    else:\n",
    "        print('list does not have 5')"
   ]
  },
  {
   "cell_type": "markdown",
   "metadata": {},
   "source": [
    "-->Iterators are everywhere in Python. They are elegantly implemented within for loops, comprehensions, generators etc... but hidden in plain sight.\n",
    "\n",
    "-->Iterator in Python is simply an object that can be iterated upon. An object which will return data, one element at a time"
   ]
  },
  {
   "cell_type": "code",
   "execution_count": null,
   "metadata": {},
   "outputs": [],
   "source": []
  },
  {
   "cell_type": "code",
   "execution_count": null,
   "metadata": {},
   "outputs": [],
   "source": []
  }
 ],
 "metadata": {
  "kernelspec": {
   "display_name": "Python 3",
   "language": "python",
   "name": "python3"
  },
  "language_info": {
   "codemirror_mode": {
    "name": "ipython",
    "version": 3
   },
   "file_extension": ".py",
   "mimetype": "text/x-python",
   "name": "python",
   "nbconvert_exporter": "python",
   "pygments_lexer": "ipython3",
   "version": "3.5.2"
  }
 },
 "nbformat": 4,
 "nbformat_minor": 2
}
