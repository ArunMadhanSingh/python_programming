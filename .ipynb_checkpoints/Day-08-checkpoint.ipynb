{
 "cells": [
  {
   "cell_type": "markdown",
   "metadata": {},
   "source": [
    "welcome back....guys \n",
    "\n",
    "This is your Arun.\n",
    "\n",
    "And it's Day-08 of <100dayscodechallenge>"
   ]
  },
  {
   "cell_type": "markdown",
   "metadata": {},
   "source": [
    "Today we gonna see how IF works...!"
   ]
  },
  {
   "cell_type": "code",
   "execution_count": 1,
   "metadata": {},
   "outputs": [
    {
     "name": "stdout",
     "output_type": "stream",
     "text": [
      "yeah, it worked\n"
     ]
    }
   ],
   "source": [
    "if True :  #it only execute if condition true\n",
    "    print('yeah, it worked')"
   ]
  },
  {
   "cell_type": "code",
   "execution_count": 4,
   "metadata": {},
   "outputs": [
    {
     "name": "stdout",
     "output_type": "stream",
     "text": [
      "bye\n"
     ]
    }
   ],
   "source": [
    "if False: # if it is false then it comes out from loop and print bye\n",
    "    print('im right')\n",
    "print('bye')"
   ]
  },
  {
   "cell_type": "markdown",
   "metadata": {},
   "source": [
    "Now we gonna see whether the number is even or odd using if statement."
   ]
  },
  {
   "cell_type": "code",
   "execution_count": 8,
   "metadata": {},
   "outputs": [
    {
     "name": "stdout",
     "output_type": "stream",
     "text": [
      "bye\n"
     ]
    }
   ],
   "source": [
    "x = 3 \n",
    "r = x % 2 \n",
    "#if the remainder is equal to zero then the number is even\n",
    "\n",
    "if r == 0:\n",
    "    print ('even')\n",
    "print('bye') #the given number is odd so it print bye"
   ]
  },
  {
   "cell_type": "code",
   "execution_count": 10,
   "metadata": {},
   "outputs": [
    {
     "name": "stdout",
     "output_type": "stream",
     "text": [
      "even\n",
      "bye\n"
     ]
    }
   ],
   "source": [
    "x = 4\n",
    "r = x % 2 \n",
    "#if the remainder is equal to zero then the number is even\n",
    "\n",
    "if r == 0:\n",
    "    print ('even')\n",
    "print('bye')"
   ]
  },
  {
   "cell_type": "markdown",
   "metadata": {},
   "source": [
    "And the other example using if inside if"
   ]
  },
  {
   "cell_type": "code",
   "execution_count": 11,
   "metadata": {},
   "outputs": [
    {
     "name": "stdout",
     "output_type": "stream",
     "text": [
      "odd\n"
     ]
    }
   ],
   "source": [
    "x = 7\n",
    "r = x % 2 \n",
    "\n",
    "if r ==0:\n",
    "    print('even')\n",
    "if r == 1:\n",
    "    print('odd')"
   ]
  },
  {
   "cell_type": "markdown",
   "metadata": {},
   "source": [
    "In the above program the given number is odd and it checking the first if loop, loop was false so it's moving the next if loop and the condition is True so it printed 'odd'"
   ]
  },
  {
   "cell_type": "markdown",
   "metadata": {},
   "source": [
    "If the first if was true then it won't go for next loop,\n",
    "for example:"
   ]
  },
  {
   "cell_type": "code",
   "execution_count": 14,
   "metadata": {},
   "outputs": [
    {
     "name": "stdout",
     "output_type": "stream",
     "text": [
      "even\n"
     ]
    }
   ],
   "source": [
    "x = 8\n",
    "r = x % 2\n",
    "\n",
    "if r == 0 :\n",
    "    print('even')\n",
    "if r == 1:\n",
    "    print('true')"
   ]
  },
  {
   "cell_type": "markdown",
   "metadata": {},
   "source": [
    "Here the given number is even ,so it's print even and not go for the next condition to check. \n",
    "\n",
    "so we are using else statement here"
   ]
  },
  {
   "cell_type": "code",
   "execution_count": 18,
   "metadata": {},
   "outputs": [
    {
     "name": "stdout",
     "output_type": "stream",
     "text": [
      "odd\n"
     ]
    }
   ],
   "source": [
    "x = 7\n",
    "r = x % 2\n",
    "\n",
    "if r == 0 : #here the if statement is false then it goes to else statement\n",
    "    print('even')\n",
    "else:\n",
    "    print('odd')"
   ]
  },
  {
   "cell_type": "markdown",
   "metadata": {},
   "source": [
    "###### can i have if inside an if , let's try !"
   ]
  },
  {
   "cell_type": "code",
   "execution_count": 20,
   "metadata": {},
   "outputs": [
    {
     "name": "stdout",
     "output_type": "stream",
     "text": [
      "even\n",
      "greater\n"
     ]
    }
   ],
   "source": [
    "x = 8\n",
    "r = x % 2\n",
    "\n",
    "if r == 0 :\n",
    "    print('even')\n",
    "    if x > 5:\n",
    "        print('greater')\n",
    "else:\n",
    "    print('odd')"
   ]
  },
  {
   "cell_type": "markdown",
   "metadata": {},
   "source": [
    "yes we can have if inside an if .... it is called nested if"
   ]
  },
  {
   "cell_type": "markdown",
   "metadata": {},
   "source": [
    "And we also have concept of\n",
    "\n",
    "if   \n",
    "\n",
    "elif\n",
    "\n",
    "else"
   ]
  },
  {
   "cell_type": "markdown",
   "metadata": {},
   "source": [
    "if a user say 1 i wanna print one or if he say 2 i wanna print 2...and then we check it for other statement aswell"
   ]
  },
  {
   "cell_type": "code",
   "execution_count": 30,
   "metadata": {},
   "outputs": [
    {
     "name": "stdout",
     "output_type": "stream",
     "text": [
      "wrong input\n"
     ]
    }
   ],
   "source": [
    "x = 5\n",
    " \n",
    "if x == 1: #if it is false then go for next condition\n",
    "    print('one')\n",
    "elif x == 2:\n",
    "    print('two')\n",
    "elif x ==3:\n",
    "    print('three')\n",
    "elif x ==4:\n",
    "    print ('four')\n",
    "\n",
    "else:\n",
    "    print('wrong input')"
   ]
  },
  {
   "cell_type": "code",
   "execution_count": null,
   "metadata": {},
   "outputs": [],
   "source": []
  },
  {
   "cell_type": "code",
   "execution_count": null,
   "metadata": {},
   "outputs": [],
   "source": []
  }
 ],
 "metadata": {
  "kernelspec": {
   "display_name": "Python 3",
   "language": "python",
   "name": "python3"
  },
  "language_info": {
   "codemirror_mode": {
    "name": "ipython",
    "version": 3
   },
   "file_extension": ".py",
   "mimetype": "text/x-python",
   "name": "python",
   "nbconvert_exporter": "python",
   "pygments_lexer": "ipython3",
   "version": "3.7.3"
  }
 },
 "nbformat": 4,
 "nbformat_minor": 2
}
