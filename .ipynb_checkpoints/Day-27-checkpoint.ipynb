{
 "cells": [
  {
   "cell_type": "markdown",
   "metadata": {},
   "source": [
    "And it's Day-27 of  <#100DaysOfCode>"
   ]
  },
  {
   "cell_type": "markdown",
   "metadata": {},
   "source": [
    "Today we are gonna practice some examples in class."
   ]
  },
  {
   "cell_type": "code",
   "execution_count": 17,
   "metadata": {},
   "outputs": [],
   "source": [
    "class Time:\n",
    "    \"\"\"print\"\"\"\n",
    "    b = Time()\n",
    "    def __init__(a,hours=0,minutes=0,seconds=0):  #instead of self we using a \n",
    "        a.hours = hours\n",
    "        a.minutes = minutes\n",
    "        a.seconds = seconds\n",
    "    \n",
    "    def time_to_int(c):              # this method is for converting given inputs in seconds.\n",
    "        minutes = c.hours * 60 + c.minutes\n",
    "        seconds = minutes * 60 + c.seconds\n",
    "        return seconds"
   ]
  },
  {
   "cell_type": "markdown",
   "metadata": {},
   "source": [
    "To call this function, you have to pass a Time object as an argument:\n"
   ]
  },
  {
   "cell_type": "code",
   "execution_count": 20,
   "metadata": {},
   "outputs": [],
   "source": [
    "start = Time()\n",
    "start.hours = 9\n",
    "start.minutes = 25\n",
    "start.seconds =10"
   ]
  },
  {
   "cell_type": "code",
   "execution_count": 21,
   "metadata": {},
   "outputs": [
    {
     "data": {
      "text/plain": [
       "33910"
      ]
     },
     "execution_count": 21,
     "metadata": {},
     "output_type": "execute_result"
    }
   ],
   "source": [
    "start.time_to_int()"
   ]
  },
  {
   "cell_type": "code",
   "execution_count": 26,
   "metadata": {},
   "outputs": [
    {
     "data": {
      "text/plain": [
       "36000"
      ]
     },
     "execution_count": 26,
     "metadata": {},
     "output_type": "execute_result"
    }
   ],
   "source": [
    "alpha=Time(10,0,0) # we can directly give input like this\n",
    "alpha.time_to_int()"
   ]
  },
  {
   "cell_type": "markdown",
   "metadata": {},
   "source": [
    "A magic method is used to implement functionality that can’t be represented as a normal method. __init__() isn’t the only magic method in Python; we will read more about it in a future lesson. But for now, we’ll just name some of the magic methods:\n",
    "\n",
    "__add__ for  +\n",
    "\n",
    "__sub__ for  –\n",
    "\n",
    "__mul__ for  *\n",
    "\n",
    "__and__ for  &"
   ]
  },
  {
   "cell_type": "code",
   "execution_count": null,
   "metadata": {},
   "outputs": [],
   "source": []
  },
  {
   "cell_type": "code",
   "execution_count": null,
   "metadata": {},
   "outputs": [],
   "source": []
  }
 ],
 "metadata": {
  "kernelspec": {
   "display_name": "Python 3",
   "language": "python",
   "name": "python3"
  },
  "language_info": {
   "codemirror_mode": {
    "name": "ipython",
    "version": 3
   },
   "file_extension": ".py",
   "mimetype": "text/x-python",
   "name": "python",
   "nbconvert_exporter": "python",
   "pygments_lexer": "ipython3",
   "version": "3.7.3"
  }
 },
 "nbformat": 4,
 "nbformat_minor": 2
}
