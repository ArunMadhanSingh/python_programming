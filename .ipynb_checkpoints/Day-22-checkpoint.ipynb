{
 "cells": [
  {
   "cell_type": "markdown",
   "metadata": {},
   "source": [
    "Welcome back, And it's Day-22 of <#100daysofcode>"
   ]
  },
  {
   "cell_type": "markdown",
   "metadata": {},
   "source": [
    "Today we are going to learn about \"class\" in python. "
   ]
  },
  {
   "cell_type": "markdown",
   "metadata": {},
   "source": [
    "Why class ? what they are doing in program? let's see,"
   ]
  },
  {
   "cell_type": "markdown",
   "metadata": {},
   "source": [
    "* Python is an “object-oriented programming language.” \n",
    "\n",
    "* This means that almost all the code is implemented using a special construct called classes.\n",
    "\n",
    "* Programmers use classes to keep related things together. This is done using the keyword “class,” which is a grouping of object-oriented constructs."
   ]
  },
  {
   "cell_type": "markdown",
   "metadata": {},
   "source": [
    "An object is created using the constructor of the class. This object will then be called the instance of the class. In Python we create instances in the following manner"
   ]
  },
  {
   "cell_type": "markdown",
   "metadata": {},
   "source": [
    "\" instance = class(arguments) \""
   ]
  },
  {
   "cell_type": "markdown",
   "metadata": {},
   "source": [
    "To create a class,"
   ]
  },
  {
   "cell_type": "code",
   "execution_count": 10,
   "metadata": {},
   "outputs": [],
   "source": [
    "class Intelligence:\n",
    "    \"\"\"artificial\"\"\""
   ]
  },
  {
   "cell_type": "code",
   "execution_count": 11,
   "metadata": {},
   "outputs": [],
   "source": [
    "ram = Intelligence()"
   ]
  },
  {
   "cell_type": "code",
   "execution_count": 12,
   "metadata": {},
   "outputs": [
    {
     "data": {
      "text/plain": [
       "<__main__.Intelligence at 0x7f4918b30780>"
      ]
     },
     "execution_count": 12,
     "metadata": {},
     "output_type": "execute_result"
    }
   ],
   "source": [
    "ram"
   ]
  },
  {
   "cell_type": "markdown",
   "metadata": {},
   "source": [
    " Attributes and methods:"
   ]
  },
  {
   "cell_type": "markdown",
   "metadata": {},
   "source": [
    "-->A class by itself is of no use unless there is some functionality associated with it. \n",
    "\n",
    "-->Functionalities are defined by setting attributes, which act as containers for data and functions related to those attributes. Those functions are called methods"
   ]
  },
  {
   "cell_type": "markdown",
   "metadata": {},
   "source": [
    "#### Attributes:"
   ]
  },
  {
   "cell_type": "markdown",
   "metadata": {},
   "source": [
    "You can define the following class with the name Intelligence. This class will have an attribute name."
   ]
  },
  {
   "cell_type": "code",
   "execution_count": 13,
   "metadata": {},
   "outputs": [],
   "source": [
    "class Intelligence:\n",
    "    alpha = 'infinity' #set an attributes alpha of the class"
   ]
  },
  {
   "cell_type": "markdown",
   "metadata": {},
   "source": [
    "You can assign the class to a variable. \"This is called object instantiation\".\n",
    "\n",
    "You will then be able to access the attributes that are present inside the class using the dot . operator. For example, in the example, you can access the attribute name of the class Intelligence."
   ]
  },
  {
   "cell_type": "code",
   "execution_count": 14,
   "metadata": {},
   "outputs": [
    {
     "name": "stdout",
     "output_type": "stream",
     "text": [
      "infinity\n"
     ]
    }
   ],
   "source": [
    "# instantiate the class Snake and assign it to variable snake\n",
    "ram = Intelligence()\n",
    "\n",
    " # access the class attribute name inside the class Snake.\n",
    "print(ram.alpha)"
   ]
  },
  {
   "cell_type": "markdown",
   "metadata": {},
   "source": [
    "example,"
   ]
  },
  {
   "cell_type": "code",
   "execution_count": 15,
   "metadata": {},
   "outputs": [],
   "source": [
    "class Import:\n",
    "    pass"
   ]
  },
  {
   "cell_type": "code",
   "execution_count": 16,
   "metadata": {},
   "outputs": [],
   "source": [
    "ex = Import()"
   ]
  },
  {
   "cell_type": "code",
   "execution_count": 17,
   "metadata": {},
   "outputs": [
    {
     "data": {
      "text/plain": [
       "<__main__.Import at 0x7f4918b308d0>"
      ]
     },
     "execution_count": 17,
     "metadata": {},
     "output_type": "execute_result"
    }
   ],
   "source": [
    "ex"
   ]
  },
  {
   "cell_type": "code",
   "execution_count": null,
   "metadata": {},
   "outputs": [],
   "source": []
  }
 ],
 "metadata": {
  "kernelspec": {
   "display_name": "Python 3",
   "language": "python",
   "name": "python3"
  },
  "language_info": {
   "codemirror_mode": {
    "name": "ipython",
    "version": 3
   },
   "file_extension": ".py",
   "mimetype": "text/x-python",
   "name": "python",
   "nbconvert_exporter": "python",
   "pygments_lexer": "ipython3",
   "version": "3.5.2"
  }
 },
 "nbformat": 4,
 "nbformat_minor": 2
}
