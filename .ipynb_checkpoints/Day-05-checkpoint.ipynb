{
 "cells": [
  {
   "cell_type": "markdown",
   "metadata": {},
   "source": [
    "Hello everyone,....welcome back \n",
    "\n",
    "This is your Arun,\n",
    "\n",
    "We are in Day-05 0f <100dayscodechallenge>\n",
    "\n",
    "Today we are gonna see about how Functions can call other function in pyton...,"
   ]
  },
  {
   "cell_type": "markdown",
   "metadata": {},
   "source": [
    "To define an inner function in Python, we simply create a function inside another function using the Python's def keyword.\n",
    "\n",
    "-->Here’s a simple example of functional decomposition using two functions. \n",
    "\n",
    "    "
   ]
  },
  {
   "cell_type": "code",
   "execution_count": 3,
   "metadata": {},
   "outputs": [],
   "source": [
    "def square(x):\n",
    "    y = x * x\n",
    "    return y\n",
    "\n",
    "def sum_of_squares(x, y, z):\n",
    "    a = square(x)\n",
    "    b = square(y)\n",
    "    c = square(z)\n",
    "\n",
    "    return a + b + c"
   ]
  },
  {
   "cell_type": "code",
   "execution_count": 4,
   "metadata": {},
   "outputs": [
    {
     "data": {
      "text/plain": [
       "14"
      ]
     },
     "execution_count": 4,
     "metadata": {},
     "output_type": "execute_result"
    }
   ],
   "source": [
    "sum_of_squares(1,2,3)"
   ]
  },
  {
   "cell_type": "markdown",
   "metadata": {},
   "source": [
    "->The first function called square simply computes the square of a given number. \n",
    "\n",
    " ->The second function called sum_of_squares makes use of square to compute the sum of three numbers that have been squared."
   ]
  },
  {
   "cell_type": "markdown",
   "metadata": {},
   "source": [
    "Next example:"
   ]
  },
  {
   "cell_type": "code",
   "execution_count": 12,
   "metadata": {},
   "outputs": [
    {
     "name": "stdout",
     "output_type": "stream",
     "text": [
      "Hello from outer function\n",
      "Hello from inner function\n"
     ]
    }
   ],
   "source": [
    "def function1(): # outer function\n",
    "    print (\"Hello from outer function\")\n",
    "    def function2(): # inner function\n",
    "        print (\"Hello from inner function\")\n",
    "    function2()\n",
    "\n",
    "function1()"
   ]
  },
  {
   "cell_type": "markdown",
   "metadata": {},
   "source": [
    "In the above example, function2() has been defined inside function1(), making it an inner function. \n",
    "\n",
    "To call function2(), we must first call function1(). The function1() will then go ahead and call function2() as it has been defined inside it."
   ]
  },
  {
   "cell_type": "markdown",
   "metadata": {},
   "source": [
    "#### What will happen if we call function2() FIRST.....Let's see "
   ]
  },
  {
   "cell_type": "markdown",
   "metadata": {},
   "source": [
    "It is important to mention that the outer function has to be called in order for the inner function to execute.\n",
    "\n",
    "If the outer function is not called, the inner function will never execute. To demonstrate this, modify the above code to the following and run it:"
   ]
  },
  {
   "cell_type": "code",
   "execution_count": 13,
   "metadata": {},
   "outputs": [],
   "source": [
    "def function1(): # outer function\n",
    "    print (\"Hello from outer function\")\n",
    "    def function2(): # inner function\n",
    "        print (\"Hello from inner function\")\n",
    "    function2()"
   ]
  },
  {
   "cell_type": "markdown",
   "metadata": {},
   "source": [
    "The code will return nothing when executed!"
   ]
  },
  {
   "cell_type": "markdown",
   "metadata": {},
   "source": [
    "Here is an other example:"
   ]
  },
  {
   "cell_type": "code",
   "execution_count": 16,
   "metadata": {},
   "outputs": [
    {
     "name": "stdout",
     "output_type": "stream",
     "text": [
      "50\n"
     ]
    }
   ],
   "source": [
    "def num1(x):\n",
    "   def num2(y):\n",
    "      return x * y\n",
    "   return num2\n",
    "res = num1(10)\n",
    "\n",
    "print(res(5))"
   ]
  },
  {
   "cell_type": "code",
   "execution_count": null,
   "metadata": {},
   "outputs": [],
   "source": []
  }
 ],
 "metadata": {
  "kernelspec": {
   "display_name": "Python 3",
   "language": "python",
   "name": "python3"
  },
  "language_info": {
   "codemirror_mode": {
    "name": "ipython",
    "version": 3
   },
   "file_extension": ".py",
   "mimetype": "text/x-python",
   "name": "python",
   "nbconvert_exporter": "python",
   "pygments_lexer": "ipython3",
   "version": "3.7.3"
  }
 },
 "nbformat": 4,
 "nbformat_minor": 2
}
